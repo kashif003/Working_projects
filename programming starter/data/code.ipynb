{
 "cells": [
  {
   "cell_type": "code",
   "execution_count": 2,
   "metadata": {},
   "outputs": [
    {
     "name": "stdout",
     "output_type": "stream",
     "text": [
      "HEllo world\n"
     ]
    }
   ],
   "source": [
    "print('HEllo world')"
   ]
  },
  {
   "cell_type": "markdown",
   "metadata": {},
   "source": [
    "#  importing necessary modules"
   ]
  },
  {
   "cell_type": "code",
   "execution_count": 3,
   "metadata": {},
   "outputs": [],
   "source": [
    "import pandas as pd\n",
    "import numpy as np"
   ]
  },
  {
   "cell_type": "markdown",
   "metadata": {},
   "source": [
    "# 1. Task 1 (Data Preprocessing)\n"
   ]
  },
  {
   "cell_type": "markdown",
   "metadata": {},
   "source": [
    "## a)\n",
    " Read in the individual CSV-files female coaches.csv, female players.csv,\n",
    "female teams.csv, male coaches.csv, male players.csv as well as\n",
    "male teams.csv, and store all the information in stand-alone Pandas-DataFrames\n",
    "named df_feco (female coaches), df_fepl (female players), df_fete (female teams),\n",
    "df_maco (male coaches), df_mapl (male players), df_mate (male teams).\n"
   ]
  },
  {
   "cell_type": "code",
   "execution_count": 4,
   "metadata": {},
   "outputs": [
    {
     "name": "stdout",
     "output_type": "stream",
     "text": [
      "The shape of female_coaches.csv file is (94, 8) and male_coaches.csv file is (1369, 8)\n"
     ]
    },
    {
     "name": "stderr",
     "output_type": "stream",
     "text": [
      "C:\\Users\\kashi\\AppData\\Local\\Temp\\ipykernel_28956\\2433300494.py:7: DtypeWarning: Columns (108) have mixed types. Specify dtype option on import or set low_memory=False.\n",
      "  df_mapl=pd.read_csv('male_players.csv')\n"
     ]
    },
    {
     "name": "stdout",
     "output_type": "stream",
     "text": [
      "The shape of female_players.csv file is (5035, 109) and male_players.csv file is (180021, 109)\n",
      "The shape of female_teams.csv file is (231, 54) and male_teams.csv file is (6947, 54)\n"
     ]
    }
   ],
   "source": [
    "# reading  coachs csv file\n",
    "df_feco=pd.read_csv('female_coaches.csv')\n",
    "df_maco=pd.read_csv('male_coaches.csv')\n",
    "print(f'The shape of female_coaches.csv file is {df_feco.shape} and male_coaches.csv file is {df_maco.shape}')\n",
    "# reading players csv file\n",
    "df_fepl=pd.read_csv('female_players.csv')\n",
    "df_mapl=pd.read_csv('male_players.csv')\n",
    "print(f'The shape of female_players.csv file is {df_fepl.shape} and male_players.csv file is {df_mapl.shape}')\n",
    "# reading teams\n",
    "df_fete=pd.read_csv('female_teams.csv')\n",
    "df_mate=pd.read_csv('male_teams.csv')\n",
    "print(f'The shape of female_teams.csv file is {df_fete.shape} and male_teams.csv file is {df_mate.shape}')\n"
   ]
  },
  {
   "cell_type": "markdown",
   "metadata": {},
   "source": [
    "## b)\n",
    "Verify the number of total columns for each DataFrame to check whether the numbers\n",
    "of overall attributes match with the numbers given in the official documentation. For the\n",
    "players (df_fepl & df_mapl) it should be 109, for the teams (df_fete & df_mate) it\n",
    "should be 54, and for the coaches (df_feco & df_maco) it should be 8 total attributes.\n",
    "How many data entries for players, teams, and coaches are provided by the EASD corpus?"
   ]
  },
  {
   "cell_type": "code",
   "execution_count": 5,
   "metadata": {},
   "outputs": [
    {
     "name": "stdout",
     "output_type": "stream",
     "text": [
      "There are 109 columns in female_players.CSV file and 109 columns in male_players.CSV file.\n",
      "There are 54 columns in female_teams.CSV file and 54 columns in male_teams.CSV file.  \n",
      "There are 8 columns in female_feco.CSV file and 8 columns in male_maco.CSV file.  \n"
     ]
    }
   ],
   "source": [
    "# checking the total number of columns in data frame\n",
    "df_fepl_columns= len(df_fepl.columns)\n",
    "df_mapl_columns=len(df_mapl.columns)\n",
    "print(f'There are {df_fepl_columns} columns in female_players.CSV file and {df_mapl_columns} columns in male_players.CSV file.')\n",
    "df_fete_columns=len(df_fete.columns)\n",
    "df_mate_columns=len(df_mate.columns)\n",
    "print(f'There are {df_fete_columns} columns in female_teams.CSV file and {df_mate_columns} columns in male_teams.CSV file.  ')\n",
    "df_feco_columns=len(df_feco.columns)\n",
    "df_maco_columns=len(df_maco.columns)\n",
    "print(f'There are {df_feco_columns} columns in female_feco.CSV file and {df_maco_columns} columns in male_maco.CSV file.  ')"
   ]
  },
  {
   "cell_type": "markdown",
   "metadata": {},
   "source": [
    "## C)\n",
    "Add an additional column with the name Sex to each of the 6 DataFrames and fill it\n",
    "accordingly with the String male or female. Afterwards, combine and merge the two\n",
    "sex-specific DataFrames for players (df_mapl, df_fepl), teams (df_mate, df_fete)\n",
    "and coaches (df_maco, df_feco), resulting in a total of 3 new DataFrames, named:\n",
    "df player, df team, and df coach."
   ]
  },
  {
   "cell_type": "code",
   "execution_count": 6,
   "metadata": {},
   "outputs": [],
   "source": [
    "# adding additional columns to all six DataFrames\n",
    "df_fete['Sex']=np.zeros(len(df_fete))\n",
    "df_mate['Sex']=np.ones(len(df_mate))\n",
    "\n",
    "df_mapl['Sex']=np.ones(len(df_mapl))\n",
    "df_fepl['Sex']=np.zeros(len(df_fepl))\n",
    "\n",
    "df_maco['Sex']=np.ones(len(df_maco))\n",
    "df_feco['Sex']=np.zeros(len(df_feco))\n"
   ]
  },
  {
   "cell_type": "code",
   "execution_count": 7,
   "metadata": {},
   "outputs": [],
   "source": [
    "# merging the DataFrames with same Sex\n",
    "players=pd.concat([df_fepl,df_mapl],ignore_index=True)\n",
    "coaches=pd.concat([df_feco,df_maco],ignore_index=True)\n",
    "teams=pd.concat([df_fete,df_mate],ignore_index=True)"
   ]
  },
  {
   "cell_type": "markdown",
   "metadata": {},
   "source": [
    "## d)\n",
    "Create an updated and reduced version of df player, df team, and df coach as the\n",
    "very final data foundation, by overwriting the respective DataFrames in such a way that only\n",
    "the subsequently mentioned attributes (columns) remain:\n",
    "\n",
    "• Players (27 out of 109): player_id, fifa_version, long_name,\n",
    "player_positions, value_eur, wage_eur, dob, height_cm, weight_kg,\n",
    "club_team_id, club_name, league_id, league_name, club_position,\n",
    "club_jersey_number,club_joined_date, club_contract_valid_until_year,\n",
    "nationality_id, nationality_name, nation_team_id, preferred_foot,\n",
    "pace, shooting, passing, dribbling, defending, physic\n",
    "\n",
    "• Teams (18 out of 54): team_id, fifa_version, team_name, league_id,\n",
    "league_name, nationality_id, nationality_name, overall, attack,\n",
    "midfield, defence, coach_id, home_stadium, whole_team_average_age,\n",
    "captain, penalties, left_corner, right_corner\n",
    "\n",
    "• Coaches (4 out of 8): coach_id, long_name, dob, nationality_name\n"
   ]
  },
  {
   "cell_type": "code",
   "execution_count": 8,
   "metadata": {},
   "outputs": [
    {
     "name": "stdout",
     "output_type": "stream",
     "text": [
      "The shape of the df_players DataFrame is (185056, 27)\n",
      "The shape of the df_teams DataFrame is (7178, 18)\n",
      "The shape of the df_coaches DataFrame is (1463, 4)\n"
     ]
    }
   ],
   "source": [
    "# creating df_plyayers with 27 columns.\n",
    "df_players=players[['player_id', 'fifa_version', 'long_name',\n",
    "'player_positions', 'value_eur', 'wage_eur', 'dob', 'height_cm', 'weight_kg',\n",
    "'club_team_id', 'club_name', 'league_id', 'league_name', 'club_position',\n",
    "'club_jersey_number','club_joined_date', 'club_contract_valid_until_year',\n",
    "'nationality_id', 'nationality_name', 'nation_team_id', 'preferred_foot',\n",
    "'pace', 'shooting', 'passing', 'dribbling', 'defending', 'physic']]\n",
    "# creating df_teams with 18 columns\n",
    "df_teams=teams[['team_id', 'fifa_version', 'team_name', 'league_id',\n",
    "'league_name', 'nationality_id', 'nationality_name', 'overall', 'attack',\n",
    "'midfield', 'defence', 'coach_id', 'home_stadium', 'whole_team_average_age',\n",
    "'captain', 'penalties', 'left_corner', 'right_corner']]\n",
    "# cretaing df_coaches with 4 columns\n",
    "df_coaches=coaches[['coach_id', 'long_name', 'dob', 'nationality_name']]\n",
    "\n",
    "# checking the shape of every DataFrame\n",
    "print(f'The shape of the df_players DataFrame is {df_players.shape}')\n",
    "print(f'The shape of the df_teams DataFrame is {df_teams.shape}')\n",
    "print(f'The shape of the df_coaches DataFrame is {df_coaches.shape}')"
   ]
  },
  {
   "cell_type": "markdown",
   "metadata": {},
   "source": [
    "## e)\n",
    "Check all the individual DataFrames (df_player, df_team, df_coach) for missing values and fill them with appropriate replacements, wherever it is reasonable, in order to guarantee a data collection as clean and error-free as possible. Be careful in which incidents\n",
    "replacing is not useful, where it is appropriate, and which replacement values make sense\n",
    "or not. Evaluate, verify, and comment on your decisions, next to reporting a feedback about\n",
    "the data quality, using various quality criteria."
   ]
  },
  {
   "cell_type": "markdown",
   "metadata": {},
   "source": [
    "### I) working on df_coachs dataFrame"
   ]
  },
  {
   "cell_type": "code",
   "execution_count": 26,
   "metadata": {},
   "outputs": [
    {
     "data": {
      "text/plain": [
       "Index(['coach_id', 'long_name', 'dob', 'nationality_name'], dtype='object')"
      ]
     },
     "execution_count": 26,
     "metadata": {},
     "output_type": "execute_result"
    }
   ],
   "source": [
    "# columns in this data set\n",
    "df_coaches.columns"
   ]
  },
  {
   "cell_type": "code",
   "execution_count": 37,
   "metadata": {},
   "outputs": [
    {
     "name": "stderr",
     "output_type": "stream",
     "text": [
      "C:\\Users\\kashi\\AppData\\Local\\Temp\\ipykernel_28956\\3070592389.py:3: SettingWithCopyWarning: \n",
      "A value is trying to be set on a copy of a slice from a DataFrame.\n",
      "Try using .loc[row_indexer,col_indexer] = value instead\n",
      "\n",
      "See the caveats in the documentation: https://pandas.pydata.org/pandas-docs/stable/user_guide/indexing.html#returning-a-view-versus-a-copy\n",
      "  df_coaches['dob']=pd.to_datetime(df_coaches['dob'])\n"
     ]
    },
    {
     "data": {
      "text/html": [
       "<div>\n",
       "<style scoped>\n",
       "    .dataframe tbody tr th:only-of-type {\n",
       "        vertical-align: middle;\n",
       "    }\n",
       "\n",
       "    .dataframe tbody tr th {\n",
       "        vertical-align: top;\n",
       "    }\n",
       "\n",
       "    .dataframe thead th {\n",
       "        text-align: right;\n",
       "    }\n",
       "</style>\n",
       "<table border=\"1\" class=\"dataframe\">\n",
       "  <thead>\n",
       "    <tr style=\"text-align: right;\">\n",
       "      <th></th>\n",
       "      <th>number of missing values</th>\n",
       "    </tr>\n",
       "  </thead>\n",
       "  <tbody>\n",
       "    <tr>\n",
       "      <th>coach_id</th>\n",
       "      <td>0</td>\n",
       "    </tr>\n",
       "    <tr>\n",
       "      <th>long_name</th>\n",
       "      <td>0</td>\n",
       "    </tr>\n",
       "    <tr>\n",
       "      <th>dob</th>\n",
       "      <td>124</td>\n",
       "    </tr>\n",
       "    <tr>\n",
       "      <th>nationality_name</th>\n",
       "      <td>0</td>\n",
       "    </tr>\n",
       "  </tbody>\n",
       "</table>\n",
       "</div>"
      ],
      "text/plain": [
       "                  number of missing values\n",
       "coach_id                                 0\n",
       "long_name                                0\n",
       "dob                                    124\n",
       "nationality_name                         0"
      ]
     },
     "execution_count": 37,
     "metadata": {},
     "output_type": "execute_result"
    }
   ],
   "source": [
    "#checking the missingn values on the data frame\n",
    "missing_value=df_coaches.isnull().sum().to_frame(name='number of missing values')\n",
    "df_coaches['dob']=pd.to_datetime(df_coaches['dob'])"
   ]
  },
  {
   "cell_type": "code",
   "execution_count": 45,
   "metadata": {},
   "outputs": [
    {
     "name": "stderr",
     "output_type": "stream",
     "text": [
      "C:\\Users\\kashi\\AppData\\Local\\Temp\\ipykernel_28956\\493234047.py:2: SettingWithCopyWarning: \n",
      "A value is trying to be set on a copy of a slice from a DataFrame.\n",
      "Try using .loc[row_indexer,col_indexer] = value instead\n",
      "\n",
      "See the caveats in the documentation: https://pandas.pydata.org/pandas-docs/stable/user_guide/indexing.html#returning-a-view-versus-a-copy\n",
      "  df_coaches['dob']=pd.to_datetime(df_coaches['dob'])\n",
      "C:\\Users\\kashi\\AppData\\Local\\Temp\\ipykernel_28956\\493234047.py:5: SettingWithCopyWarning: \n",
      "A value is trying to be set on a copy of a slice from a DataFrame.\n",
      "Try using .loc[row_indexer,col_indexer] = value instead\n",
      "\n",
      "See the caveats in the documentation: https://pandas.pydata.org/pandas-docs/stable/user_guide/indexing.html#returning-a-view-versus-a-copy\n",
      "  df_coaches['dob_missing']=df_coaches['dob'].isna().astype(int)\n"
     ]
    }
   ],
   "source": [
    "# converting the vlaues into date and time\n",
    "df_coaches['dob']=pd.to_datetime(df_coaches['dob'])\n",
    "\n",
    "# creating a column which shows that dob entry of the respective  data sample was missing or not(1=missing,0=not missing)\n",
    "df_coaches['dob_missing']=df_coaches['dob'].isna().astype(int)"
   ]
  },
  {
   "cell_type": "code",
   "execution_count": 51,
   "metadata": {},
   "outputs": [
    {
     "name": "stderr",
     "output_type": "stream",
     "text": [
      "C:\\Users\\kashi\\AppData\\Local\\Temp\\ipykernel_28956\\3907608065.py:3: SettingWithCopyWarning: \n",
      "A value is trying to be set on a copy of a slice from a DataFrame\n",
      "\n",
      "See the caveats in the documentation: https://pandas.pydata.org/pandas-docs/stable/user_guide/indexing.html#returning-a-view-versus-a-copy\n",
      "  df_coaches['dob'].fillna(mean_value,inplace=True)\n"
     ]
    },
    {
     "data": {
      "text/plain": [
       "0      1973-02-25 00:00:00.000000000\n",
       "1      1988-05-29 00:00:00.000000000\n",
       "2      1976-07-20 00:00:00.000000000\n",
       "3      1979-07-06 00:00:00.000000000\n",
       "4      1974-07-21 00:00:00.000000000\n",
       "                    ...             \n",
       "1458   1990-10-07 00:00:00.000000000\n",
       "1459   1967-12-27 00:00:00.000000000\n",
       "1460   1973-11-03 05:06:29.843166544\n",
       "1461   1972-11-26 00:00:00.000000000\n",
       "1462   1974-05-02 00:00:00.000000000\n",
       "Name: dob, Length: 1463, dtype: datetime64[ns]"
      ]
     },
     "execution_count": 51,
     "metadata": {},
     "output_type": "execute_result"
    }
   ],
   "source": [
    "# checking the mean of the dob values\n",
    "mean_value=df_coaches['dob'].mean()\n",
    "df_coaches['dob'].fillna(mean_value,inplace=True)\n",
    "df_coaches['dob']"
   ]
  },
  {
   "cell_type": "markdown",
   "metadata": {},
   "source": [
    "# 3. code"
   ]
  },
  {
   "cell_type": "code",
   "execution_count": null,
   "metadata": {},
   "outputs": [],
   "source": []
  },
  {
   "cell_type": "code",
   "execution_count": null,
   "metadata": {},
   "outputs": [],
   "source": [
    "\n"
   ]
  }
 ],
 "metadata": {
  "kernelspec": {
   "display_name": "AI_Projects",
   "language": "python",
   "name": "ai_projects"
  },
  "language_info": {
   "codemirror_mode": {
    "name": "ipython",
    "version": 3
   },
   "file_extension": ".py",
   "mimetype": "text/x-python",
   "name": "python",
   "nbconvert_exporter": "python",
   "pygments_lexer": "ipython3",
   "version": "3.11.7"
  }
 },
 "nbformat": 4,
 "nbformat_minor": 2
}

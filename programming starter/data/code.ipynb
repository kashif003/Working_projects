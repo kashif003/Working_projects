{
 "cells": [
  {
   "cell_type": "markdown",
   "metadata": {},
   "source": [
    "# Group Detetails"
   ]
  },
  {
   "cell_type": "markdown",
   "metadata": {},
   "source": [
    "1. Name= Nitesh Ramesh Morem---------------------------------------------------Matriculation Number= 35611655\n",
    "2. Name= Kashif Riyaz---------------------------------------------------------------Matriculation Number= 35370305"
   ]
  },
  {
   "cell_type": "markdown",
   "metadata": {},
   "source": [
    "# Installing and  importing necessary modules"
   ]
  },
  {
   "cell_type": "code",
   "execution_count": 774,
   "metadata": {},
   "outputs": [
    {
     "name": "stdout",
     "output_type": "stream",
     "text": [
      "Requirement already satisfied: seaborn in c:\\users\\kashi\\virtualenv\\ai_projects\\lib\\site-packages (0.13.2)\n",
      "Requirement already satisfied: pandas in c:\\users\\kashi\\virtualenv\\ai_projects\\lib\\site-packages (2.2.2)\n",
      "Requirement already satisfied: numpy in c:\\users\\kashi\\virtualenv\\ai_projects\\lib\\site-packages (1.26.4)\n",
      "Requirement already satisfied: scipy in c:\\users\\kashi\\virtualenv\\ai_projects\\lib\\site-packages (1.13.0)\n",
      "Requirement already satisfied: matplotlib in c:\\users\\kashi\\virtualenv\\ai_projects\\lib\\site-packages (3.8.4)\n",
      "Requirement already satisfied: python-dateutil>=2.8.2 in c:\\users\\kashi\\virtualenv\\ai_projects\\lib\\site-packages (from pandas) (2.9.0.post0)\n",
      "Requirement already satisfied: pytz>=2020.1 in c:\\users\\kashi\\virtualenv\\ai_projects\\lib\\site-packages (from pandas) (2024.1)\n",
      "Requirement already satisfied: tzdata>=2022.7 in c:\\users\\kashi\\virtualenv\\ai_projects\\lib\\site-packages (from pandas) (2024.1)\n",
      "Requirement already satisfied: contourpy>=1.0.1 in c:\\users\\kashi\\virtualenv\\ai_projects\\lib\\site-packages (from matplotlib) (1.2.1)\n",
      "Requirement already satisfied: cycler>=0.10 in c:\\users\\kashi\\virtualenv\\ai_projects\\lib\\site-packages (from matplotlib) (0.12.1)\n",
      "Requirement already satisfied: fonttools>=4.22.0 in c:\\users\\kashi\\virtualenv\\ai_projects\\lib\\site-packages (from matplotlib) (4.51.0)\n",
      "Requirement already satisfied: kiwisolver>=1.3.1 in c:\\users\\kashi\\virtualenv\\ai_projects\\lib\\site-packages (from matplotlib) (1.4.5)\n",
      "Requirement already satisfied: packaging>=20.0 in c:\\users\\kashi\\virtualenv\\ai_projects\\lib\\site-packages (from matplotlib) (24.0)\n",
      "Requirement already satisfied: pillow>=8 in c:\\users\\kashi\\virtualenv\\ai_projects\\lib\\site-packages (from matplotlib) (10.3.0)\n",
      "Requirement already satisfied: pyparsing>=2.3.1 in c:\\users\\kashi\\virtualenv\\ai_projects\\lib\\site-packages (from matplotlib) (3.1.2)\n",
      "Requirement already satisfied: six>=1.5 in c:\\users\\kashi\\virtualenv\\ai_projects\\lib\\site-packages (from python-dateutil>=2.8.2->pandas) (1.16.0)\n"
     ]
    }
   ],
   "source": [
    "!pip install seaborn pandas numpy scipy matplotlib\n"
   ]
  },
  {
   "cell_type": "code",
   "execution_count": 775,
   "metadata": {},
   "outputs": [],
   "source": [
    "import pandas as pd\n",
    "import numpy as np\n",
    "import matplotlib.pyplot as plt\n",
    "import scipy\n",
    "import seaborn as sns\n",
    "from matplotlib.colors import ListedColormap"
   ]
  },
  {
   "cell_type": "code",
   "execution_count": 776,
   "metadata": {},
   "outputs": [],
   "source": [
    "pd.reset_option('display.max_rows')\n",
    "pd.reset_option('display.max_columns')"
   ]
  },
  {
   "cell_type": "markdown",
   "metadata": {},
   "source": [
    "# 1. Task 1 (Data Preprocessing)\n"
   ]
  },
  {
   "cell_type": "markdown",
   "metadata": {},
   "source": [
    "## a)\n",
    "\n"
   ]
  },
  {
   "cell_type": "code",
   "execution_count": 777,
   "metadata": {},
   "outputs": [
    {
     "name": "stdout",
     "output_type": "stream",
     "text": [
      "The shape of female_coaches.csv file is (94, 8) and male_coaches.csv file is (1369, 8)\n"
     ]
    },
    {
     "name": "stderr",
     "output_type": "stream",
     "text": [
      "C:\\Users\\kashi\\AppData\\Local\\Temp\\ipykernel_17112\\2433300494.py:7: DtypeWarning: Columns (108) have mixed types. Specify dtype option on import or set low_memory=False.\n",
      "  df_mapl=pd.read_csv('male_players.csv')\n"
     ]
    },
    {
     "name": "stdout",
     "output_type": "stream",
     "text": [
      "The shape of female_players.csv file is (5035, 109) and male_players.csv file is (180021, 109)\n",
      "The shape of female_teams.csv file is (231, 54) and male_teams.csv file is (6947, 54)\n"
     ]
    }
   ],
   "source": [
    "# reading  coachs csv file\n",
    "df_feco=pd.read_csv('female_coaches.csv')\n",
    "df_maco=pd.read_csv('male_coaches.csv')\n",
    "print(f'The shape of female_coaches.csv file is {df_feco.shape} and male_coaches.csv file is {df_maco.shape}')\n",
    "# reading players csv file\n",
    "df_fepl=pd.read_csv('female_players.csv')\n",
    "df_mapl=pd.read_csv('male_players.csv')\n",
    "print(f'The shape of female_players.csv file is {df_fepl.shape} and male_players.csv file is {df_mapl.shape}')\n",
    "# reading teams\n",
    "df_fete=pd.read_csv('female_teams.csv')\n",
    "df_mate=pd.read_csv('male_teams.csv')\n",
    "print(f'The shape of female_teams.csv file is {df_fete.shape} and male_teams.csv file is {df_mate.shape}')\n"
   ]
  },
  {
   "cell_type": "markdown",
   "metadata": {},
   "source": [
    "## b)\n"
   ]
  },
  {
   "cell_type": "code",
   "execution_count": 778,
   "metadata": {},
   "outputs": [
    {
     "name": "stdout",
     "output_type": "stream",
     "text": [
      "There are 109 columns in female_players.CSV file and 109 columns in male_players.CSV file.\n",
      "There are 54 columns in female_teams.CSV file and 54 columns in male_teams.CSV file.  \n",
      "There are 8 columns in female_feco.CSV file and 8 columns in male_maco.CSV file.  \n"
     ]
    }
   ],
   "source": [
    "# checking the total number of columns in data frame\n",
    "df_fepl_columns= len(df_fepl.columns)\n",
    "df_mapl_columns=len(df_mapl.columns)\n",
    "print(f'There are {df_fepl_columns} columns in female_players.CSV file and {df_mapl_columns} columns in male_players.CSV file.')\n",
    "df_fete_columns=len(df_fete.columns)\n",
    "df_mate_columns=len(df_mate.columns)\n",
    "print(f'There are {df_fete_columns} columns in female_teams.CSV file and {df_mate_columns} columns in male_teams.CSV file.  ')\n",
    "df_feco_columns=len(df_feco.columns)\n",
    "df_maco_columns=len(df_maco.columns)\n",
    "print(f'There are {df_feco_columns} columns in female_feco.CSV file and {df_maco_columns} columns in male_maco.CSV file.  ')"
   ]
  },
  {
   "cell_type": "markdown",
   "metadata": {},
   "source": [
    "## C)\n"
   ]
  },
  {
   "cell_type": "code",
   "execution_count": 779,
   "metadata": {},
   "outputs": [],
   "source": [
    "# Adding additional column 'Sex' to all six DataFrames\n",
    "df_fete['Sex']=np.zeros(len(df_fete))\n",
    "df_mate['Sex']=np.ones(len(df_mate))\n",
    "\n",
    "df_mapl['Sex']=np.ones(len(df_mapl))\n",
    "df_fepl['Sex']=np.zeros(len(df_fepl))\n",
    "\n",
    "df_maco['Sex']=np.ones(len(df_maco))\n",
    "df_feco['Sex']=np.zeros(len(df_feco))\n"
   ]
  },
  {
   "cell_type": "code",
   "execution_count": 780,
   "metadata": {},
   "outputs": [],
   "source": [
    "# merging the DataFrames with same Sex\n",
    "player=pd.concat([df_fepl,df_mapl],ignore_index=True)\n",
    "coach=pd.concat([df_feco,df_maco],ignore_index=True)\n",
    "team=pd.concat([df_fete,df_mate],ignore_index=True)\n"
   ]
  },
  {
   "cell_type": "markdown",
   "metadata": {},
   "source": [
    "## d)\n",
    "\n"
   ]
  },
  {
   "cell_type": "code",
   "execution_count": 781,
   "metadata": {},
   "outputs": [
    {
     "name": "stdout",
     "output_type": "stream",
     "text": [
      "The shape of the df_player DataFrame is (185056, 28)\n",
      "The shape of the df_team DataFrame is (7178, 19)\n",
      "The shape of the df_coach DataFrame is (1463, 5)\n"
     ]
    }
   ],
   "source": [
    "# creating df_plyayers with 27 columns.\n",
    "df_player=player[['player_id', 'fifa_version', 'long_name',\n",
    "'player_positions', 'value_eur', 'wage_eur', 'dob', 'height_cm', 'weight_kg',\n",
    "'club_team_id', 'club_name', 'league_id', 'league_name', 'club_position',\n",
    "'club_jersey_number','club_joined_date', 'club_contract_valid_until_year',\n",
    "'nationality_id', 'nationality_name', 'nation_team_id', 'preferred_foot',\n",
    "'pace', 'shooting', 'passing', 'dribbling', 'defending', 'physic','Sex']]\n",
    "# creating df_teams with 18 columns\n",
    "df_team=team[['team_id', 'fifa_version', 'team_name', 'league_id',\n",
    "'league_name', 'nationality_id', 'nationality_name', 'overall', 'attack',\n",
    "'midfield', 'defence', 'coach_id', 'home_stadium', 'whole_team_average_age',\n",
    "'captain', 'penalties', 'left_corner', 'right_corner','Sex']]\n",
    "# cretaing df_coaches with 4 columns\n",
    "df_coach=coach[['coach_id', 'long_name', 'dob', 'nationality_name','Sex']]\n",
    "\n",
    "# checking the shape of every DataFrame\n",
    "print(f'The shape of the df_player DataFrame is {df_player.shape}')\n",
    "print(f'The shape of the df_team DataFrame is {df_team.shape}')\n",
    "print(f'The shape of the df_coach DataFrame is {df_coach.shape}')"
   ]
  },
  {
   "cell_type": "markdown",
   "metadata": {},
   "source": [
    "## e)\n"
   ]
  },
  {
   "cell_type": "markdown",
   "metadata": {},
   "source": [
    "### I)  Working on df_coach"
   ]
  },
  {
   "cell_type": "code",
   "execution_count": 782,
   "metadata": {},
   "outputs": [
    {
     "data": {
      "text/plain": [
       "Index(['coach_id', 'long_name', 'dob', 'nationality_name', 'Sex'], dtype='object')"
      ]
     },
     "execution_count": 782,
     "metadata": {},
     "output_type": "execute_result"
    }
   ],
   "source": [
    "# columns in this data set\n",
    "df_coach.columns"
   ]
  },
  {
   "cell_type": "code",
   "execution_count": 783,
   "metadata": {},
   "outputs": [
    {
     "name": "stdout",
     "output_type": "stream",
     "text": [
      "The number of rows in the df_coaches are 1463\n"
     ]
    },
    {
     "data": {
      "text/html": [
       "<div>\n",
       "<style scoped>\n",
       "    .dataframe tbody tr th:only-of-type {\n",
       "        vertical-align: middle;\n",
       "    }\n",
       "\n",
       "    .dataframe tbody tr th {\n",
       "        vertical-align: top;\n",
       "    }\n",
       "\n",
       "    .dataframe thead th {\n",
       "        text-align: right;\n",
       "    }\n",
       "</style>\n",
       "<table border=\"1\" class=\"dataframe\">\n",
       "  <thead>\n",
       "    <tr style=\"text-align: right;\">\n",
       "      <th></th>\n",
       "      <th>number of missing values</th>\n",
       "    </tr>\n",
       "  </thead>\n",
       "  <tbody>\n",
       "    <tr>\n",
       "      <th>coach_id</th>\n",
       "      <td>0</td>\n",
       "    </tr>\n",
       "    <tr>\n",
       "      <th>long_name</th>\n",
       "      <td>0</td>\n",
       "    </tr>\n",
       "    <tr>\n",
       "      <th>dob</th>\n",
       "      <td>124</td>\n",
       "    </tr>\n",
       "    <tr>\n",
       "      <th>nationality_name</th>\n",
       "      <td>0</td>\n",
       "    </tr>\n",
       "    <tr>\n",
       "      <th>Sex</th>\n",
       "      <td>0</td>\n",
       "    </tr>\n",
       "  </tbody>\n",
       "</table>\n",
       "</div>"
      ],
      "text/plain": [
       "                  number of missing values\n",
       "coach_id                                 0\n",
       "long_name                                0\n",
       "dob                                    124\n",
       "nationality_name                         0\n",
       "Sex                                      0"
      ]
     },
     "execution_count": 783,
     "metadata": {},
     "output_type": "execute_result"
    }
   ],
   "source": [
    "#checking the missingn values on the data frame\n",
    "missing_value=df_coach.isnull().sum().to_frame(name='number of missing values')\n",
    "print(f'The number of rows in the df_coaches are {df_coach.shape[0]}')\n",
    "missing_value"
   ]
  },
  {
   "cell_type": "code",
   "execution_count": 784,
   "metadata": {},
   "outputs": [
    {
     "name": "stderr",
     "output_type": "stream",
     "text": [
      "C:\\Users\\kashi\\AppData\\Local\\Temp\\ipykernel_17112\\429544939.py:2: SettingWithCopyWarning: \n",
      "A value is trying to be set on a copy of a slice from a DataFrame.\n",
      "Try using .loc[row_indexer,col_indexer] = value instead\n",
      "\n",
      "See the caveats in the documentation: https://pandas.pydata.org/pandas-docs/stable/user_guide/indexing.html#returning-a-view-versus-a-copy\n",
      "  df_coach['dob']=pd.to_datetime(df_coach['dob'])\n"
     ]
    },
    {
     "data": {
      "text/html": [
       "<div>\n",
       "<style scoped>\n",
       "    .dataframe tbody tr th:only-of-type {\n",
       "        vertical-align: middle;\n",
       "    }\n",
       "\n",
       "    .dataframe tbody tr th {\n",
       "        vertical-align: top;\n",
       "    }\n",
       "\n",
       "    .dataframe thead th {\n",
       "        text-align: right;\n",
       "    }\n",
       "</style>\n",
       "<table border=\"1\" class=\"dataframe\">\n",
       "  <thead>\n",
       "    <tr style=\"text-align: right;\">\n",
       "      <th></th>\n",
       "      <th>number of missing values</th>\n",
       "    </tr>\n",
       "  </thead>\n",
       "  <tbody>\n",
       "    <tr>\n",
       "      <th>coach_id</th>\n",
       "      <td>0</td>\n",
       "    </tr>\n",
       "    <tr>\n",
       "      <th>long_name</th>\n",
       "      <td>0</td>\n",
       "    </tr>\n",
       "    <tr>\n",
       "      <th>dob</th>\n",
       "      <td>0</td>\n",
       "    </tr>\n",
       "    <tr>\n",
       "      <th>nationality_name</th>\n",
       "      <td>0</td>\n",
       "    </tr>\n",
       "    <tr>\n",
       "      <th>Sex</th>\n",
       "      <td>0</td>\n",
       "    </tr>\n",
       "  </tbody>\n",
       "</table>\n",
       "</div>"
      ],
      "text/plain": [
       "                  number of missing values\n",
       "coach_id                                 0\n",
       "long_name                                0\n",
       "dob                                      0\n",
       "nationality_name                         0\n",
       "Sex                                      0"
      ]
     },
     "execution_count": 784,
     "metadata": {},
     "output_type": "execute_result"
    }
   ],
   "source": [
    "# replacing the nan values with mean value in dob column\n",
    "df_coach['dob']=pd.to_datetime(df_coach['dob'])\n",
    "mean_value=df_coach['dob'].mean().date()\n",
    "df_coach.loc[:,'dob']=df_coach['dob'].fillna(mean_value)\n",
    "df_coach.isnull().sum().to_frame(name='number of missing values')"
   ]
  },
  {
   "cell_type": "markdown",
   "metadata": {},
   "source": [
    "Here we have filled the missing value with the mean value of dob.\n",
    "* First we converted the values of dob into timedate value.\n",
    "* Then we calculated the mean and only took the date.\n",
    "*  At last we replaced the nan vales with mean data value."
   ]
  },
  {
   "cell_type": "markdown",
   "metadata": {},
   "source": [
    "### II) Working on df_team"
   ]
  },
  {
   "cell_type": "code",
   "execution_count": 785,
   "metadata": {},
   "outputs": [
    {
     "data": {
      "text/plain": [
       "Index(['team_id', 'fifa_version', 'team_name', 'league_id', 'league_name',\n",
       "       'nationality_id', 'nationality_name', 'overall', 'attack', 'midfield',\n",
       "       'defence', 'coach_id', 'home_stadium', 'whole_team_average_age',\n",
       "       'captain', 'penalties', 'left_corner', 'right_corner', 'Sex'],\n",
       "      dtype='object')"
      ]
     },
     "execution_count": 785,
     "metadata": {},
     "output_type": "execute_result"
    }
   ],
   "source": [
    "df_team.columns"
   ]
  },
  {
   "cell_type": "code",
   "execution_count": 786,
   "metadata": {},
   "outputs": [
    {
     "data": {
      "text/html": [
       "<div>\n",
       "<style scoped>\n",
       "    .dataframe tbody tr th:only-of-type {\n",
       "        vertical-align: middle;\n",
       "    }\n",
       "\n",
       "    .dataframe tbody tr th {\n",
       "        vertical-align: top;\n",
       "    }\n",
       "\n",
       "    .dataframe thead th {\n",
       "        text-align: right;\n",
       "    }\n",
       "</style>\n",
       "<table border=\"1\" class=\"dataframe\">\n",
       "  <thead>\n",
       "    <tr style=\"text-align: right;\">\n",
       "      <th></th>\n",
       "      <th>number of missing values</th>\n",
       "    </tr>\n",
       "  </thead>\n",
       "  <tbody>\n",
       "    <tr>\n",
       "      <th>team_id</th>\n",
       "      <td>0</td>\n",
       "    </tr>\n",
       "    <tr>\n",
       "      <th>fifa_version</th>\n",
       "      <td>0</td>\n",
       "    </tr>\n",
       "    <tr>\n",
       "      <th>team_name</th>\n",
       "      <td>0</td>\n",
       "    </tr>\n",
       "    <tr>\n",
       "      <th>league_id</th>\n",
       "      <td>0</td>\n",
       "    </tr>\n",
       "    <tr>\n",
       "      <th>league_name</th>\n",
       "      <td>0</td>\n",
       "    </tr>\n",
       "    <tr>\n",
       "      <th>nationality_id</th>\n",
       "      <td>0</td>\n",
       "    </tr>\n",
       "    <tr>\n",
       "      <th>nationality_name</th>\n",
       "      <td>0</td>\n",
       "    </tr>\n",
       "    <tr>\n",
       "      <th>overall</th>\n",
       "      <td>0</td>\n",
       "    </tr>\n",
       "    <tr>\n",
       "      <th>attack</th>\n",
       "      <td>0</td>\n",
       "    </tr>\n",
       "    <tr>\n",
       "      <th>midfield</th>\n",
       "      <td>0</td>\n",
       "    </tr>\n",
       "    <tr>\n",
       "      <th>defence</th>\n",
       "      <td>0</td>\n",
       "    </tr>\n",
       "    <tr>\n",
       "      <th>coach_id</th>\n",
       "      <td>48</td>\n",
       "    </tr>\n",
       "    <tr>\n",
       "      <th>home_stadium</th>\n",
       "      <td>12</td>\n",
       "    </tr>\n",
       "    <tr>\n",
       "      <th>whole_team_average_age</th>\n",
       "      <td>0</td>\n",
       "    </tr>\n",
       "    <tr>\n",
       "      <th>captain</th>\n",
       "      <td>38</td>\n",
       "    </tr>\n",
       "    <tr>\n",
       "      <th>penalties</th>\n",
       "      <td>47</td>\n",
       "    </tr>\n",
       "    <tr>\n",
       "      <th>left_corner</th>\n",
       "      <td>42</td>\n",
       "    </tr>\n",
       "    <tr>\n",
       "      <th>right_corner</th>\n",
       "      <td>41</td>\n",
       "    </tr>\n",
       "    <tr>\n",
       "      <th>Sex</th>\n",
       "      <td>0</td>\n",
       "    </tr>\n",
       "  </tbody>\n",
       "</table>\n",
       "</div>"
      ],
      "text/plain": [
       "                        number of missing values\n",
       "team_id                                        0\n",
       "fifa_version                                   0\n",
       "team_name                                      0\n",
       "league_id                                      0\n",
       "league_name                                    0\n",
       "nationality_id                                 0\n",
       "nationality_name                               0\n",
       "overall                                        0\n",
       "attack                                         0\n",
       "midfield                                       0\n",
       "defence                                        0\n",
       "coach_id                                      48\n",
       "home_stadium                                  12\n",
       "whole_team_average_age                         0\n",
       "captain                                       38\n",
       "penalties                                     47\n",
       "left_corner                                   42\n",
       "right_corner                                  41\n",
       "Sex                                            0"
      ]
     },
     "execution_count": 786,
     "metadata": {},
     "output_type": "execute_result"
    }
   ],
   "source": [
    "df_team.isnull().sum().to_frame(name='number of missing values')"
   ]
  },
  {
   "cell_type": "markdown",
   "metadata": {},
   "source": [
    "In the first section of this code the data in being grouped by the team_name and then the values are filled by bfill()"
   ]
  },
  {
   "cell_type": "code",
   "execution_count": 787,
   "metadata": {},
   "outputs": [
    {
     "data": {
      "text/html": [
       "<div>\n",
       "<style scoped>\n",
       "    .dataframe tbody tr th:only-of-type {\n",
       "        vertical-align: middle;\n",
       "    }\n",
       "\n",
       "    .dataframe tbody tr th {\n",
       "        vertical-align: top;\n",
       "    }\n",
       "\n",
       "    .dataframe thead th {\n",
       "        text-align: right;\n",
       "    }\n",
       "</style>\n",
       "<table border=\"1\" class=\"dataframe\">\n",
       "  <thead>\n",
       "    <tr style=\"text-align: right;\">\n",
       "      <th></th>\n",
       "      <th>number of missing values</th>\n",
       "    </tr>\n",
       "  </thead>\n",
       "  <tbody>\n",
       "    <tr>\n",
       "      <th>team_id</th>\n",
       "      <td>0</td>\n",
       "    </tr>\n",
       "    <tr>\n",
       "      <th>fifa_version</th>\n",
       "      <td>0</td>\n",
       "    </tr>\n",
       "    <tr>\n",
       "      <th>team_name</th>\n",
       "      <td>0</td>\n",
       "    </tr>\n",
       "    <tr>\n",
       "      <th>league_id</th>\n",
       "      <td>0</td>\n",
       "    </tr>\n",
       "    <tr>\n",
       "      <th>league_name</th>\n",
       "      <td>0</td>\n",
       "    </tr>\n",
       "    <tr>\n",
       "      <th>nationality_id</th>\n",
       "      <td>0</td>\n",
       "    </tr>\n",
       "    <tr>\n",
       "      <th>nationality_name</th>\n",
       "      <td>0</td>\n",
       "    </tr>\n",
       "    <tr>\n",
       "      <th>overall</th>\n",
       "      <td>0</td>\n",
       "    </tr>\n",
       "    <tr>\n",
       "      <th>attack</th>\n",
       "      <td>0</td>\n",
       "    </tr>\n",
       "    <tr>\n",
       "      <th>midfield</th>\n",
       "      <td>0</td>\n",
       "    </tr>\n",
       "    <tr>\n",
       "      <th>defence</th>\n",
       "      <td>0</td>\n",
       "    </tr>\n",
       "    <tr>\n",
       "      <th>coach_id</th>\n",
       "      <td>47</td>\n",
       "    </tr>\n",
       "    <tr>\n",
       "      <th>home_stadium</th>\n",
       "      <td>1</td>\n",
       "    </tr>\n",
       "    <tr>\n",
       "      <th>whole_team_average_age</th>\n",
       "      <td>0</td>\n",
       "    </tr>\n",
       "    <tr>\n",
       "      <th>captain</th>\n",
       "      <td>20</td>\n",
       "    </tr>\n",
       "    <tr>\n",
       "      <th>penalties</th>\n",
       "      <td>22</td>\n",
       "    </tr>\n",
       "    <tr>\n",
       "      <th>left_corner</th>\n",
       "      <td>23</td>\n",
       "    </tr>\n",
       "    <tr>\n",
       "      <th>right_corner</th>\n",
       "      <td>22</td>\n",
       "    </tr>\n",
       "    <tr>\n",
       "      <th>Sex</th>\n",
       "      <td>0</td>\n",
       "    </tr>\n",
       "  </tbody>\n",
       "</table>\n",
       "</div>"
      ],
      "text/plain": [
       "                        number of missing values\n",
       "team_id                                        0\n",
       "fifa_version                                   0\n",
       "team_name                                      0\n",
       "league_id                                      0\n",
       "league_name                                    0\n",
       "nationality_id                                 0\n",
       "nationality_name                               0\n",
       "overall                                        0\n",
       "attack                                         0\n",
       "midfield                                       0\n",
       "defence                                        0\n",
       "coach_id                                      47\n",
       "home_stadium                                   1\n",
       "whole_team_average_age                         0\n",
       "captain                                       20\n",
       "penalties                                     22\n",
       "left_corner                                   23\n",
       "right_corner                                  22\n",
       "Sex                                            0"
      ]
     },
     "execution_count": 787,
     "metadata": {},
     "output_type": "execute_result"
    }
   ],
   "source": [
    "# Grouping the teams together based on the team and then using backward fill to fill tha Nan values of previous game.\n",
    "df_team.loc[:,'home_stadium']=df_team.groupby('team_name')['home_stadium'].bfill()\n",
    "df_team.loc[:,'coach_id']=df_team.groupby('team_name')['coach_id'].bfill()\n",
    "df_team.loc[:,'captain']=df_team.groupby('team_name')['captain'].bfill()\n",
    "df_team.loc[:,'penalties']=df_team.groupby('team_name')['penalties'].bfill()\n",
    "df_team.loc[:,'left_corner']=df_team.groupby('team_name')['left_corner'].bfill()\n",
    "df_team.loc[:,'right_corner']=df_team.groupby('team_name')['right_corner'].bfill()\n",
    "\n",
    "df_team.isnull().sum().to_frame(name='number of missing values')"
   ]
  },
  {
   "cell_type": "markdown",
   "metadata": {},
   "source": [
    "As we still have missing values means these teams have missing values in the other versions of game as well so assigning the random values to these teams"
   ]
  },
  {
   "cell_type": "code",
   "execution_count": 788,
   "metadata": {},
   "outputs": [],
   "source": [
    "# random values\n",
    "coach_id=12345678.0\n",
    "home_stadium='OTH Amberg Stadium'\n",
    "Captain=123456.0\n",
    "penalties=654321.0\n",
    "left_corner=642135.0\n",
    "right_corner=531246.0"
   ]
  },
  {
   "cell_type": "code",
   "execution_count": 789,
   "metadata": {},
   "outputs": [
    {
     "data": {
      "text/html": [
       "<div>\n",
       "<style scoped>\n",
       "    .dataframe tbody tr th:only-of-type {\n",
       "        vertical-align: middle;\n",
       "    }\n",
       "\n",
       "    .dataframe tbody tr th {\n",
       "        vertical-align: top;\n",
       "    }\n",
       "\n",
       "    .dataframe thead th {\n",
       "        text-align: right;\n",
       "    }\n",
       "</style>\n",
       "<table border=\"1\" class=\"dataframe\">\n",
       "  <thead>\n",
       "    <tr style=\"text-align: right;\">\n",
       "      <th></th>\n",
       "      <th>number of missing values</th>\n",
       "    </tr>\n",
       "  </thead>\n",
       "  <tbody>\n",
       "    <tr>\n",
       "      <th>team_id</th>\n",
       "      <td>0</td>\n",
       "    </tr>\n",
       "    <tr>\n",
       "      <th>fifa_version</th>\n",
       "      <td>0</td>\n",
       "    </tr>\n",
       "    <tr>\n",
       "      <th>team_name</th>\n",
       "      <td>0</td>\n",
       "    </tr>\n",
       "    <tr>\n",
       "      <th>league_id</th>\n",
       "      <td>0</td>\n",
       "    </tr>\n",
       "    <tr>\n",
       "      <th>league_name</th>\n",
       "      <td>0</td>\n",
       "    </tr>\n",
       "    <tr>\n",
       "      <th>nationality_id</th>\n",
       "      <td>0</td>\n",
       "    </tr>\n",
       "    <tr>\n",
       "      <th>nationality_name</th>\n",
       "      <td>0</td>\n",
       "    </tr>\n",
       "    <tr>\n",
       "      <th>overall</th>\n",
       "      <td>0</td>\n",
       "    </tr>\n",
       "    <tr>\n",
       "      <th>attack</th>\n",
       "      <td>0</td>\n",
       "    </tr>\n",
       "    <tr>\n",
       "      <th>midfield</th>\n",
       "      <td>0</td>\n",
       "    </tr>\n",
       "    <tr>\n",
       "      <th>defence</th>\n",
       "      <td>0</td>\n",
       "    </tr>\n",
       "    <tr>\n",
       "      <th>coach_id</th>\n",
       "      <td>0</td>\n",
       "    </tr>\n",
       "    <tr>\n",
       "      <th>home_stadium</th>\n",
       "      <td>0</td>\n",
       "    </tr>\n",
       "    <tr>\n",
       "      <th>whole_team_average_age</th>\n",
       "      <td>0</td>\n",
       "    </tr>\n",
       "    <tr>\n",
       "      <th>captain</th>\n",
       "      <td>0</td>\n",
       "    </tr>\n",
       "    <tr>\n",
       "      <th>penalties</th>\n",
       "      <td>0</td>\n",
       "    </tr>\n",
       "    <tr>\n",
       "      <th>left_corner</th>\n",
       "      <td>0</td>\n",
       "    </tr>\n",
       "    <tr>\n",
       "      <th>right_corner</th>\n",
       "      <td>0</td>\n",
       "    </tr>\n",
       "    <tr>\n",
       "      <th>Sex</th>\n",
       "      <td>0</td>\n",
       "    </tr>\n",
       "  </tbody>\n",
       "</table>\n",
       "</div>"
      ],
      "text/plain": [
       "                        number of missing values\n",
       "team_id                                        0\n",
       "fifa_version                                   0\n",
       "team_name                                      0\n",
       "league_id                                      0\n",
       "league_name                                    0\n",
       "nationality_id                                 0\n",
       "nationality_name                               0\n",
       "overall                                        0\n",
       "attack                                         0\n",
       "midfield                                       0\n",
       "defence                                        0\n",
       "coach_id                                       0\n",
       "home_stadium                                   0\n",
       "whole_team_average_age                         0\n",
       "captain                                        0\n",
       "penalties                                      0\n",
       "left_corner                                    0\n",
       "right_corner                                   0\n",
       "Sex                                            0"
      ]
     },
     "execution_count": 789,
     "metadata": {},
     "output_type": "execute_result"
    }
   ],
   "source": [
    "#filling in the missing values in respective columns\n",
    "df_team.loc[:,'coach_id']=df_team['coach_id'].fillna(coach_id)\n",
    "df_team.loc[:,'home_stadium']=df_team['home_stadium'].fillna(home_stadium)\n",
    "df_team.loc[:,'captain']=df_team['captain'].fillna(Captain)\n",
    "df_team.loc[:,'penalties']=df_team['penalties'].fillna(penalties)\n",
    "df_team.loc[:,'left_corner']=df_team['left_corner'].fillna(left_corner)\n",
    "df_team.loc[:,'right_corner']=df_team['right_corner'].fillna(right_corner)\n",
    "\n",
    "\n",
    "df_team.isnull().sum().to_frame(name='number of missing values')"
   ]
  },
  {
   "cell_type": "markdown",
   "metadata": {},
   "source": [
    "### III) Working on df_players"
   ]
  },
  {
   "cell_type": "code",
   "execution_count": 790,
   "metadata": {},
   "outputs": [
    {
     "data": {
      "text/html": [
       "<div>\n",
       "<style scoped>\n",
       "    .dataframe tbody tr th:only-of-type {\n",
       "        vertical-align: middle;\n",
       "    }\n",
       "\n",
       "    .dataframe tbody tr th {\n",
       "        vertical-align: top;\n",
       "    }\n",
       "\n",
       "    .dataframe thead th {\n",
       "        text-align: right;\n",
       "    }\n",
       "</style>\n",
       "<table border=\"1\" class=\"dataframe\">\n",
       "  <thead>\n",
       "    <tr style=\"text-align: right;\">\n",
       "      <th></th>\n",
       "      <th>number of missing values</th>\n",
       "    </tr>\n",
       "  </thead>\n",
       "  <tbody>\n",
       "    <tr>\n",
       "      <th>player_id</th>\n",
       "      <td>0</td>\n",
       "    </tr>\n",
       "    <tr>\n",
       "      <th>fifa_version</th>\n",
       "      <td>0</td>\n",
       "    </tr>\n",
       "    <tr>\n",
       "      <th>long_name</th>\n",
       "      <td>0</td>\n",
       "    </tr>\n",
       "    <tr>\n",
       "      <th>player_positions</th>\n",
       "      <td>0</td>\n",
       "    </tr>\n",
       "    <tr>\n",
       "      <th>value_eur</th>\n",
       "      <td>4898</td>\n",
       "    </tr>\n",
       "    <tr>\n",
       "      <th>wage_eur</th>\n",
       "      <td>4592</td>\n",
       "    </tr>\n",
       "    <tr>\n",
       "      <th>dob</th>\n",
       "      <td>0</td>\n",
       "    </tr>\n",
       "    <tr>\n",
       "      <th>height_cm</th>\n",
       "      <td>0</td>\n",
       "    </tr>\n",
       "    <tr>\n",
       "      <th>weight_kg</th>\n",
       "      <td>0</td>\n",
       "    </tr>\n",
       "    <tr>\n",
       "      <th>club_team_id</th>\n",
       "      <td>4655</td>\n",
       "    </tr>\n",
       "    <tr>\n",
       "      <th>club_name</th>\n",
       "      <td>4655</td>\n",
       "    </tr>\n",
       "    <tr>\n",
       "      <th>league_id</th>\n",
       "      <td>4655</td>\n",
       "    </tr>\n",
       "    <tr>\n",
       "      <th>league_name</th>\n",
       "      <td>4655</td>\n",
       "    </tr>\n",
       "    <tr>\n",
       "      <th>club_position</th>\n",
       "      <td>4655</td>\n",
       "    </tr>\n",
       "    <tr>\n",
       "      <th>club_jersey_number</th>\n",
       "      <td>4655</td>\n",
       "    </tr>\n",
       "    <tr>\n",
       "      <th>club_joined_date</th>\n",
       "      <td>15405</td>\n",
       "    </tr>\n",
       "    <tr>\n",
       "      <th>club_contract_valid_until_year</th>\n",
       "      <td>4655</td>\n",
       "    </tr>\n",
       "    <tr>\n",
       "      <th>nationality_id</th>\n",
       "      <td>0</td>\n",
       "    </tr>\n",
       "    <tr>\n",
       "      <th>nationality_name</th>\n",
       "      <td>0</td>\n",
       "    </tr>\n",
       "    <tr>\n",
       "      <th>nation_team_id</th>\n",
       "      <td>171840</td>\n",
       "    </tr>\n",
       "    <tr>\n",
       "      <th>preferred_foot</th>\n",
       "      <td>0</td>\n",
       "    </tr>\n",
       "    <tr>\n",
       "      <th>pace</th>\n",
       "      <td>20640</td>\n",
       "    </tr>\n",
       "    <tr>\n",
       "      <th>shooting</th>\n",
       "      <td>20640</td>\n",
       "    </tr>\n",
       "    <tr>\n",
       "      <th>passing</th>\n",
       "      <td>20640</td>\n",
       "    </tr>\n",
       "    <tr>\n",
       "      <th>dribbling</th>\n",
       "      <td>20640</td>\n",
       "    </tr>\n",
       "    <tr>\n",
       "      <th>defending</th>\n",
       "      <td>20640</td>\n",
       "    </tr>\n",
       "    <tr>\n",
       "      <th>physic</th>\n",
       "      <td>20640</td>\n",
       "    </tr>\n",
       "    <tr>\n",
       "      <th>Sex</th>\n",
       "      <td>0</td>\n",
       "    </tr>\n",
       "  </tbody>\n",
       "</table>\n",
       "</div>"
      ],
      "text/plain": [
       "                                number of missing values\n",
       "player_id                                              0\n",
       "fifa_version                                           0\n",
       "long_name                                              0\n",
       "player_positions                                       0\n",
       "value_eur                                           4898\n",
       "wage_eur                                            4592\n",
       "dob                                                    0\n",
       "height_cm                                              0\n",
       "weight_kg                                              0\n",
       "club_team_id                                        4655\n",
       "club_name                                           4655\n",
       "league_id                                           4655\n",
       "league_name                                         4655\n",
       "club_position                                       4655\n",
       "club_jersey_number                                  4655\n",
       "club_joined_date                                   15405\n",
       "club_contract_valid_until_year                      4655\n",
       "nationality_id                                         0\n",
       "nationality_name                                       0\n",
       "nation_team_id                                    171840\n",
       "preferred_foot                                         0\n",
       "pace                                               20640\n",
       "shooting                                           20640\n",
       "passing                                            20640\n",
       "dribbling                                          20640\n",
       "defending                                          20640\n",
       "physic                                             20640\n",
       "Sex                                                    0"
      ]
     },
     "execution_count": 790,
     "metadata": {},
     "output_type": "execute_result"
    }
   ],
   "source": [
    "df_player.isnull().sum().to_frame(name='number of missing values')\n"
   ]
  },
  {
   "cell_type": "markdown",
   "metadata": {},
   "source": [
    "#### Working with value_eur and wage_eur column"
   ]
  },
  {
   "cell_type": "code",
   "execution_count": 791,
   "metadata": {},
   "outputs": [
    {
     "name": "stdout",
     "output_type": "stream",
     "text": [
      "Missing values in value_eur column: 4147\n",
      "Missing values in wage_eur column: 3992\n"
     ]
    }
   ],
   "source": [
    "# using backward fill to fill value_eur same as used in prevsion version of fifa\n",
    "df_player.loc[:,'value_eur']=df_player.groupby('long_name')['value_eur'].bfill()\n",
    "print('Missing values in value_eur column:',df_player.loc[:,'value_eur'].isnull().sum())\n",
    "\n",
    "# using backward fill to fill wage_eur same as used in prevsion version of fifa\n",
    "df_player.loc[:,'wage_eur']=df_player.groupby('long_name')['wage_eur'].bfill()\n",
    "\n",
    "print('Missing values in wage_eur column:',df_player.loc[:,'wage_eur'].isnull().sum())"
   ]
  },
  {
   "cell_type": "markdown",
   "metadata": {},
   "source": [
    " we have players whoes value and wages are not present in any another version of the game so we will give them mean value and mean wages of all the players.in the data"
   ]
  },
  {
   "cell_type": "code",
   "execution_count": 792,
   "metadata": {},
   "outputs": [
    {
     "data": {
      "text/html": [
       "<div>\n",
       "<style scoped>\n",
       "    .dataframe tbody tr th:only-of-type {\n",
       "        vertical-align: middle;\n",
       "    }\n",
       "\n",
       "    .dataframe tbody tr th {\n",
       "        vertical-align: top;\n",
       "    }\n",
       "\n",
       "    .dataframe thead th {\n",
       "        text-align: right;\n",
       "    }\n",
       "</style>\n",
       "<table border=\"1\" class=\"dataframe\">\n",
       "  <thead>\n",
       "    <tr style=\"text-align: right;\">\n",
       "      <th></th>\n",
       "      <th>number of missing values</th>\n",
       "    </tr>\n",
       "  </thead>\n",
       "  <tbody>\n",
       "    <tr>\n",
       "      <th>player_id</th>\n",
       "      <td>0</td>\n",
       "    </tr>\n",
       "    <tr>\n",
       "      <th>fifa_version</th>\n",
       "      <td>0</td>\n",
       "    </tr>\n",
       "    <tr>\n",
       "      <th>long_name</th>\n",
       "      <td>0</td>\n",
       "    </tr>\n",
       "    <tr>\n",
       "      <th>player_positions</th>\n",
       "      <td>0</td>\n",
       "    </tr>\n",
       "    <tr>\n",
       "      <th>value_eur</th>\n",
       "      <td>0</td>\n",
       "    </tr>\n",
       "    <tr>\n",
       "      <th>wage_eur</th>\n",
       "      <td>0</td>\n",
       "    </tr>\n",
       "    <tr>\n",
       "      <th>dob</th>\n",
       "      <td>0</td>\n",
       "    </tr>\n",
       "    <tr>\n",
       "      <th>height_cm</th>\n",
       "      <td>0</td>\n",
       "    </tr>\n",
       "    <tr>\n",
       "      <th>weight_kg</th>\n",
       "      <td>0</td>\n",
       "    </tr>\n",
       "    <tr>\n",
       "      <th>club_team_id</th>\n",
       "      <td>4655</td>\n",
       "    </tr>\n",
       "    <tr>\n",
       "      <th>club_name</th>\n",
       "      <td>4655</td>\n",
       "    </tr>\n",
       "    <tr>\n",
       "      <th>league_id</th>\n",
       "      <td>4655</td>\n",
       "    </tr>\n",
       "    <tr>\n",
       "      <th>league_name</th>\n",
       "      <td>4655</td>\n",
       "    </tr>\n",
       "    <tr>\n",
       "      <th>club_position</th>\n",
       "      <td>4655</td>\n",
       "    </tr>\n",
       "    <tr>\n",
       "      <th>club_jersey_number</th>\n",
       "      <td>4655</td>\n",
       "    </tr>\n",
       "    <tr>\n",
       "      <th>club_joined_date</th>\n",
       "      <td>15405</td>\n",
       "    </tr>\n",
       "    <tr>\n",
       "      <th>club_contract_valid_until_year</th>\n",
       "      <td>4655</td>\n",
       "    </tr>\n",
       "    <tr>\n",
       "      <th>nationality_id</th>\n",
       "      <td>0</td>\n",
       "    </tr>\n",
       "    <tr>\n",
       "      <th>nationality_name</th>\n",
       "      <td>0</td>\n",
       "    </tr>\n",
       "    <tr>\n",
       "      <th>nation_team_id</th>\n",
       "      <td>171840</td>\n",
       "    </tr>\n",
       "    <tr>\n",
       "      <th>preferred_foot</th>\n",
       "      <td>0</td>\n",
       "    </tr>\n",
       "    <tr>\n",
       "      <th>pace</th>\n",
       "      <td>20640</td>\n",
       "    </tr>\n",
       "    <tr>\n",
       "      <th>shooting</th>\n",
       "      <td>20640</td>\n",
       "    </tr>\n",
       "    <tr>\n",
       "      <th>passing</th>\n",
       "      <td>20640</td>\n",
       "    </tr>\n",
       "    <tr>\n",
       "      <th>dribbling</th>\n",
       "      <td>20640</td>\n",
       "    </tr>\n",
       "    <tr>\n",
       "      <th>defending</th>\n",
       "      <td>20640</td>\n",
       "    </tr>\n",
       "    <tr>\n",
       "      <th>physic</th>\n",
       "      <td>20640</td>\n",
       "    </tr>\n",
       "    <tr>\n",
       "      <th>Sex</th>\n",
       "      <td>0</td>\n",
       "    </tr>\n",
       "  </tbody>\n",
       "</table>\n",
       "</div>"
      ],
      "text/plain": [
       "                                number of missing values\n",
       "player_id                                              0\n",
       "fifa_version                                           0\n",
       "long_name                                              0\n",
       "player_positions                                       0\n",
       "value_eur                                              0\n",
       "wage_eur                                               0\n",
       "dob                                                    0\n",
       "height_cm                                              0\n",
       "weight_kg                                              0\n",
       "club_team_id                                        4655\n",
       "club_name                                           4655\n",
       "league_id                                           4655\n",
       "league_name                                         4655\n",
       "club_position                                       4655\n",
       "club_jersey_number                                  4655\n",
       "club_joined_date                                   15405\n",
       "club_contract_valid_until_year                      4655\n",
       "nationality_id                                         0\n",
       "nationality_name                                       0\n",
       "nation_team_id                                    171840\n",
       "preferred_foot                                         0\n",
       "pace                                               20640\n",
       "shooting                                           20640\n",
       "passing                                            20640\n",
       "dribbling                                          20640\n",
       "defending                                          20640\n",
       "physic                                             20640\n",
       "Sex                                                    0"
      ]
     },
     "execution_count": 792,
     "metadata": {},
     "output_type": "execute_result"
    }
   ],
   "source": [
    "# calculating the mean value and mean wage of value_eur column and wage_eur column\n",
    "value_eur=int(df_player['value_eur'].mean())\n",
    "wage_eur=int(df_player['wage_eur'].mean())\n",
    "# replacing the Nan value with the mean value of Value_eur column.\n",
    "df_player.loc[:,'value_eur']=df_player['value_eur'].fillna(value_eur)\n",
    "df_player.loc[:,'wage_eur']=df_player['wage_eur'].fillna(wage_eur)\n",
    "df_player.isnull().sum().to_frame(name='number of missing values')"
   ]
  },
  {
   "cell_type": "markdown",
   "metadata": {},
   "source": [
    "#### Working on club_team_id, club_name, league_name, club_position, club_jersey_number, club_contract_valid_until_year, club_joined_date\n"
   ]
  },
  {
   "cell_type": "markdown",
   "metadata": {},
   "source": [
    "using backward fill method to fill the data from the previous fifa versions"
   ]
  },
  {
   "cell_type": "code",
   "execution_count": 793,
   "metadata": {},
   "outputs": [
    {
     "data": {
      "text/html": [
       "<div>\n",
       "<style scoped>\n",
       "    .dataframe tbody tr th:only-of-type {\n",
       "        vertical-align: middle;\n",
       "    }\n",
       "\n",
       "    .dataframe tbody tr th {\n",
       "        vertical-align: top;\n",
       "    }\n",
       "\n",
       "    .dataframe thead th {\n",
       "        text-align: right;\n",
       "    }\n",
       "</style>\n",
       "<table border=\"1\" class=\"dataframe\">\n",
       "  <thead>\n",
       "    <tr style=\"text-align: right;\">\n",
       "      <th></th>\n",
       "      <th>number of missing values</th>\n",
       "    </tr>\n",
       "  </thead>\n",
       "  <tbody>\n",
       "    <tr>\n",
       "      <th>player_id</th>\n",
       "      <td>0</td>\n",
       "    </tr>\n",
       "    <tr>\n",
       "      <th>fifa_version</th>\n",
       "      <td>0</td>\n",
       "    </tr>\n",
       "    <tr>\n",
       "      <th>long_name</th>\n",
       "      <td>0</td>\n",
       "    </tr>\n",
       "    <tr>\n",
       "      <th>player_positions</th>\n",
       "      <td>0</td>\n",
       "    </tr>\n",
       "    <tr>\n",
       "      <th>value_eur</th>\n",
       "      <td>0</td>\n",
       "    </tr>\n",
       "    <tr>\n",
       "      <th>wage_eur</th>\n",
       "      <td>0</td>\n",
       "    </tr>\n",
       "    <tr>\n",
       "      <th>dob</th>\n",
       "      <td>0</td>\n",
       "    </tr>\n",
       "    <tr>\n",
       "      <th>height_cm</th>\n",
       "      <td>0</td>\n",
       "    </tr>\n",
       "    <tr>\n",
       "      <th>weight_kg</th>\n",
       "      <td>0</td>\n",
       "    </tr>\n",
       "    <tr>\n",
       "      <th>club_team_id</th>\n",
       "      <td>4105</td>\n",
       "    </tr>\n",
       "    <tr>\n",
       "      <th>club_name</th>\n",
       "      <td>4105</td>\n",
       "    </tr>\n",
       "    <tr>\n",
       "      <th>league_id</th>\n",
       "      <td>4105</td>\n",
       "    </tr>\n",
       "    <tr>\n",
       "      <th>league_name</th>\n",
       "      <td>4105</td>\n",
       "    </tr>\n",
       "    <tr>\n",
       "      <th>club_position</th>\n",
       "      <td>4105</td>\n",
       "    </tr>\n",
       "    <tr>\n",
       "      <th>club_jersey_number</th>\n",
       "      <td>4105</td>\n",
       "    </tr>\n",
       "    <tr>\n",
       "      <th>club_joined_date</th>\n",
       "      <td>7220</td>\n",
       "    </tr>\n",
       "    <tr>\n",
       "      <th>club_contract_valid_until_year</th>\n",
       "      <td>4105</td>\n",
       "    </tr>\n",
       "    <tr>\n",
       "      <th>nationality_id</th>\n",
       "      <td>0</td>\n",
       "    </tr>\n",
       "    <tr>\n",
       "      <th>nationality_name</th>\n",
       "      <td>0</td>\n",
       "    </tr>\n",
       "    <tr>\n",
       "      <th>nation_team_id</th>\n",
       "      <td>171840</td>\n",
       "    </tr>\n",
       "    <tr>\n",
       "      <th>preferred_foot</th>\n",
       "      <td>0</td>\n",
       "    </tr>\n",
       "    <tr>\n",
       "      <th>pace</th>\n",
       "      <td>20640</td>\n",
       "    </tr>\n",
       "    <tr>\n",
       "      <th>shooting</th>\n",
       "      <td>20640</td>\n",
       "    </tr>\n",
       "    <tr>\n",
       "      <th>passing</th>\n",
       "      <td>20640</td>\n",
       "    </tr>\n",
       "    <tr>\n",
       "      <th>dribbling</th>\n",
       "      <td>20640</td>\n",
       "    </tr>\n",
       "    <tr>\n",
       "      <th>defending</th>\n",
       "      <td>20640</td>\n",
       "    </tr>\n",
       "    <tr>\n",
       "      <th>physic</th>\n",
       "      <td>20640</td>\n",
       "    </tr>\n",
       "    <tr>\n",
       "      <th>Sex</th>\n",
       "      <td>0</td>\n",
       "    </tr>\n",
       "  </tbody>\n",
       "</table>\n",
       "</div>"
      ],
      "text/plain": [
       "                                number of missing values\n",
       "player_id                                              0\n",
       "fifa_version                                           0\n",
       "long_name                                              0\n",
       "player_positions                                       0\n",
       "value_eur                                              0\n",
       "wage_eur                                               0\n",
       "dob                                                    0\n",
       "height_cm                                              0\n",
       "weight_kg                                              0\n",
       "club_team_id                                        4105\n",
       "club_name                                           4105\n",
       "league_id                                           4105\n",
       "league_name                                         4105\n",
       "club_position                                       4105\n",
       "club_jersey_number                                  4105\n",
       "club_joined_date                                    7220\n",
       "club_contract_valid_until_year                      4105\n",
       "nationality_id                                         0\n",
       "nationality_name                                       0\n",
       "nation_team_id                                    171840\n",
       "preferred_foot                                         0\n",
       "pace                                               20640\n",
       "shooting                                           20640\n",
       "passing                                            20640\n",
       "dribbling                                          20640\n",
       "defending                                          20640\n",
       "physic                                             20640\n",
       "Sex                                                    0"
      ]
     },
     "execution_count": 793,
     "metadata": {},
     "output_type": "execute_result"
    }
   ],
   "source": [
    "df_player.loc[:,'club_team_id']=df_player.groupby('long_name')['club_team_id'].bfill()\n",
    "df_player.loc[:,'club_name']=df_player.groupby('long_name')['club_name'].bfill()\n",
    "df_player.loc[:,'league_id']=df_player.groupby('long_name')['league_id'].bfill()\n",
    "df_player.loc[:,'league_name']=df_player.groupby('long_name')['league_name'].bfill()\n",
    "df_player.loc[:,'club_position']=df_player.groupby('long_name')['club_team_id'].bfill()\n",
    "df_player.loc[:,'club_jersey_number']=df_player.groupby('long_name')['club_jersey_number'].bfill()\n",
    "df_player.loc[:,'club_contract_valid_until_year']=df_player.groupby('long_name')['club_contract_valid_until_year'].bfill()\n",
    "df_player.loc[:,'club_joined_date']=df_player.groupby('long_name')['club_joined_date'].bfill()\n",
    "\n",
    "df_player.isnull().sum().to_frame(name='number of missing values')"
   ]
  },
  {
   "cell_type": "markdown",
   "metadata": {},
   "source": [
    "now we have free agents who dont have any data related to club in any game"
   ]
  },
  {
   "cell_type": "code",
   "execution_count": 794,
   "metadata": {},
   "outputs": [],
   "source": [
    "# Data used for free agent player\n",
    "club_team_id=112233\n",
    "club_name='free_agent'\n",
    "league_id=122112\n",
    "league_name='free_league_name'\n",
    "club_position='bench'\n",
    "club_jersey_number=00\n",
    "club_contract_valid_until_year=2023\n",
    "club_joined_date='18-06-2024'"
   ]
  },
  {
   "cell_type": "code",
   "execution_count": 795,
   "metadata": {},
   "outputs": [
    {
     "data": {
      "text/html": [
       "<div>\n",
       "<style scoped>\n",
       "    .dataframe tbody tr th:only-of-type {\n",
       "        vertical-align: middle;\n",
       "    }\n",
       "\n",
       "    .dataframe tbody tr th {\n",
       "        vertical-align: top;\n",
       "    }\n",
       "\n",
       "    .dataframe thead th {\n",
       "        text-align: right;\n",
       "    }\n",
       "</style>\n",
       "<table border=\"1\" class=\"dataframe\">\n",
       "  <thead>\n",
       "    <tr style=\"text-align: right;\">\n",
       "      <th></th>\n",
       "      <th>number of missing values</th>\n",
       "    </tr>\n",
       "  </thead>\n",
       "  <tbody>\n",
       "    <tr>\n",
       "      <th>player_id</th>\n",
       "      <td>0</td>\n",
       "    </tr>\n",
       "    <tr>\n",
       "      <th>fifa_version</th>\n",
       "      <td>0</td>\n",
       "    </tr>\n",
       "    <tr>\n",
       "      <th>long_name</th>\n",
       "      <td>0</td>\n",
       "    </tr>\n",
       "    <tr>\n",
       "      <th>player_positions</th>\n",
       "      <td>0</td>\n",
       "    </tr>\n",
       "    <tr>\n",
       "      <th>value_eur</th>\n",
       "      <td>0</td>\n",
       "    </tr>\n",
       "    <tr>\n",
       "      <th>wage_eur</th>\n",
       "      <td>0</td>\n",
       "    </tr>\n",
       "    <tr>\n",
       "      <th>dob</th>\n",
       "      <td>0</td>\n",
       "    </tr>\n",
       "    <tr>\n",
       "      <th>height_cm</th>\n",
       "      <td>0</td>\n",
       "    </tr>\n",
       "    <tr>\n",
       "      <th>weight_kg</th>\n",
       "      <td>0</td>\n",
       "    </tr>\n",
       "    <tr>\n",
       "      <th>club_team_id</th>\n",
       "      <td>0</td>\n",
       "    </tr>\n",
       "    <tr>\n",
       "      <th>club_name</th>\n",
       "      <td>0</td>\n",
       "    </tr>\n",
       "    <tr>\n",
       "      <th>league_id</th>\n",
       "      <td>0</td>\n",
       "    </tr>\n",
       "    <tr>\n",
       "      <th>league_name</th>\n",
       "      <td>0</td>\n",
       "    </tr>\n",
       "    <tr>\n",
       "      <th>club_position</th>\n",
       "      <td>0</td>\n",
       "    </tr>\n",
       "    <tr>\n",
       "      <th>club_jersey_number</th>\n",
       "      <td>0</td>\n",
       "    </tr>\n",
       "    <tr>\n",
       "      <th>club_joined_date</th>\n",
       "      <td>3115</td>\n",
       "    </tr>\n",
       "    <tr>\n",
       "      <th>club_contract_valid_until_year</th>\n",
       "      <td>0</td>\n",
       "    </tr>\n",
       "    <tr>\n",
       "      <th>nationality_id</th>\n",
       "      <td>0</td>\n",
       "    </tr>\n",
       "    <tr>\n",
       "      <th>nationality_name</th>\n",
       "      <td>0</td>\n",
       "    </tr>\n",
       "    <tr>\n",
       "      <th>nation_team_id</th>\n",
       "      <td>171840</td>\n",
       "    </tr>\n",
       "    <tr>\n",
       "      <th>preferred_foot</th>\n",
       "      <td>0</td>\n",
       "    </tr>\n",
       "    <tr>\n",
       "      <th>pace</th>\n",
       "      <td>20640</td>\n",
       "    </tr>\n",
       "    <tr>\n",
       "      <th>shooting</th>\n",
       "      <td>20640</td>\n",
       "    </tr>\n",
       "    <tr>\n",
       "      <th>passing</th>\n",
       "      <td>20640</td>\n",
       "    </tr>\n",
       "    <tr>\n",
       "      <th>dribbling</th>\n",
       "      <td>20640</td>\n",
       "    </tr>\n",
       "    <tr>\n",
       "      <th>defending</th>\n",
       "      <td>20640</td>\n",
       "    </tr>\n",
       "    <tr>\n",
       "      <th>physic</th>\n",
       "      <td>20640</td>\n",
       "    </tr>\n",
       "    <tr>\n",
       "      <th>Sex</th>\n",
       "      <td>0</td>\n",
       "    </tr>\n",
       "  </tbody>\n",
       "</table>\n",
       "</div>"
      ],
      "text/plain": [
       "                                number of missing values\n",
       "player_id                                              0\n",
       "fifa_version                                           0\n",
       "long_name                                              0\n",
       "player_positions                                       0\n",
       "value_eur                                              0\n",
       "wage_eur                                               0\n",
       "dob                                                    0\n",
       "height_cm                                              0\n",
       "weight_kg                                              0\n",
       "club_team_id                                           0\n",
       "club_name                                              0\n",
       "league_id                                              0\n",
       "league_name                                            0\n",
       "club_position                                          0\n",
       "club_jersey_number                                     0\n",
       "club_joined_date                                    3115\n",
       "club_contract_valid_until_year                         0\n",
       "nationality_id                                         0\n",
       "nationality_name                                       0\n",
       "nation_team_id                                    171840\n",
       "preferred_foot                                         0\n",
       "pace                                               20640\n",
       "shooting                                           20640\n",
       "passing                                            20640\n",
       "dribbling                                          20640\n",
       "defending                                          20640\n",
       "physic                                             20640\n",
       "Sex                                                    0"
      ]
     },
     "execution_count": 795,
     "metadata": {},
     "output_type": "execute_result"
    }
   ],
   "source": [
    "# fliing the values of column club_joined_data\n",
    "df_player.loc[df_player['club_name'].isna() & df_player['club_joined_date'].isna(), 'club_joined_date'] = df_player['club_joined_date'].fillna(club_joined_date)\n",
    "\n",
    "# filling the missing values\n",
    "df_player.loc[:,'club_team_id']=df_player['club_team_id'].fillna(club_team_id)\n",
    "df_player.loc[:,'club_name']=df_player['club_name'].fillna(club_name)\n",
    "df_player.loc[:,'league_id']=df_player['league_id'].fillna(league_id)\n",
    "df_player.loc[:,'league_name']=df_player['league_name'].fillna(league_name)\n",
    "df_player.loc[:,'club_position']=df_player['club_position'].fillna(club_position)\n",
    "df_player.loc[:,'club_jersey_number']=df_player['club_jersey_number'].fillna(club_jersey_number)\n",
    "df_player.loc[:,'club_contract_valid_until_year']=df_player['club_contract_valid_until_year'].fillna(club_contract_valid_until_year)\n",
    "\n",
    "df_player.isnull().sum().to_frame(name='number of missing values')\n"
   ]
  },
  {
   "cell_type": "markdown",
   "metadata": {},
   "source": [
    "we still have some players who are in the club but dont know what is their club joined date so putting the random date."
   ]
  },
  {
   "cell_type": "code",
   "execution_count": 796,
   "metadata": {},
   "outputs": [
    {
     "data": {
      "text/html": [
       "<div>\n",
       "<style scoped>\n",
       "    .dataframe tbody tr th:only-of-type {\n",
       "        vertical-align: middle;\n",
       "    }\n",
       "\n",
       "    .dataframe tbody tr th {\n",
       "        vertical-align: top;\n",
       "    }\n",
       "\n",
       "    .dataframe thead th {\n",
       "        text-align: right;\n",
       "    }\n",
       "</style>\n",
       "<table border=\"1\" class=\"dataframe\">\n",
       "  <thead>\n",
       "    <tr style=\"text-align: right;\">\n",
       "      <th></th>\n",
       "      <th>number of missing values</th>\n",
       "    </tr>\n",
       "  </thead>\n",
       "  <tbody>\n",
       "    <tr>\n",
       "      <th>player_id</th>\n",
       "      <td>0</td>\n",
       "    </tr>\n",
       "    <tr>\n",
       "      <th>fifa_version</th>\n",
       "      <td>0</td>\n",
       "    </tr>\n",
       "    <tr>\n",
       "      <th>long_name</th>\n",
       "      <td>0</td>\n",
       "    </tr>\n",
       "    <tr>\n",
       "      <th>player_positions</th>\n",
       "      <td>0</td>\n",
       "    </tr>\n",
       "    <tr>\n",
       "      <th>value_eur</th>\n",
       "      <td>0</td>\n",
       "    </tr>\n",
       "    <tr>\n",
       "      <th>wage_eur</th>\n",
       "      <td>0</td>\n",
       "    </tr>\n",
       "    <tr>\n",
       "      <th>dob</th>\n",
       "      <td>0</td>\n",
       "    </tr>\n",
       "    <tr>\n",
       "      <th>height_cm</th>\n",
       "      <td>0</td>\n",
       "    </tr>\n",
       "    <tr>\n",
       "      <th>weight_kg</th>\n",
       "      <td>0</td>\n",
       "    </tr>\n",
       "    <tr>\n",
       "      <th>club_team_id</th>\n",
       "      <td>0</td>\n",
       "    </tr>\n",
       "    <tr>\n",
       "      <th>club_name</th>\n",
       "      <td>0</td>\n",
       "    </tr>\n",
       "    <tr>\n",
       "      <th>league_id</th>\n",
       "      <td>0</td>\n",
       "    </tr>\n",
       "    <tr>\n",
       "      <th>league_name</th>\n",
       "      <td>0</td>\n",
       "    </tr>\n",
       "    <tr>\n",
       "      <th>club_position</th>\n",
       "      <td>0</td>\n",
       "    </tr>\n",
       "    <tr>\n",
       "      <th>club_jersey_number</th>\n",
       "      <td>0</td>\n",
       "    </tr>\n",
       "    <tr>\n",
       "      <th>club_joined_date</th>\n",
       "      <td>0</td>\n",
       "    </tr>\n",
       "    <tr>\n",
       "      <th>club_contract_valid_until_year</th>\n",
       "      <td>0</td>\n",
       "    </tr>\n",
       "    <tr>\n",
       "      <th>nationality_id</th>\n",
       "      <td>0</td>\n",
       "    </tr>\n",
       "    <tr>\n",
       "      <th>nationality_name</th>\n",
       "      <td>0</td>\n",
       "    </tr>\n",
       "    <tr>\n",
       "      <th>nation_team_id</th>\n",
       "      <td>171840</td>\n",
       "    </tr>\n",
       "    <tr>\n",
       "      <th>preferred_foot</th>\n",
       "      <td>0</td>\n",
       "    </tr>\n",
       "    <tr>\n",
       "      <th>pace</th>\n",
       "      <td>20640</td>\n",
       "    </tr>\n",
       "    <tr>\n",
       "      <th>shooting</th>\n",
       "      <td>20640</td>\n",
       "    </tr>\n",
       "    <tr>\n",
       "      <th>passing</th>\n",
       "      <td>20640</td>\n",
       "    </tr>\n",
       "    <tr>\n",
       "      <th>dribbling</th>\n",
       "      <td>20640</td>\n",
       "    </tr>\n",
       "    <tr>\n",
       "      <th>defending</th>\n",
       "      <td>20640</td>\n",
       "    </tr>\n",
       "    <tr>\n",
       "      <th>physic</th>\n",
       "      <td>20640</td>\n",
       "    </tr>\n",
       "    <tr>\n",
       "      <th>Sex</th>\n",
       "      <td>0</td>\n",
       "    </tr>\n",
       "  </tbody>\n",
       "</table>\n",
       "</div>"
      ],
      "text/plain": [
       "                                number of missing values\n",
       "player_id                                              0\n",
       "fifa_version                                           0\n",
       "long_name                                              0\n",
       "player_positions                                       0\n",
       "value_eur                                              0\n",
       "wage_eur                                               0\n",
       "dob                                                    0\n",
       "height_cm                                              0\n",
       "weight_kg                                              0\n",
       "club_team_id                                           0\n",
       "club_name                                              0\n",
       "league_id                                              0\n",
       "league_name                                            0\n",
       "club_position                                          0\n",
       "club_jersey_number                                     0\n",
       "club_joined_date                                       0\n",
       "club_contract_valid_until_year                         0\n",
       "nationality_id                                         0\n",
       "nationality_name                                       0\n",
       "nation_team_id                                    171840\n",
       "preferred_foot                                         0\n",
       "pace                                               20640\n",
       "shooting                                           20640\n",
       "passing                                            20640\n",
       "dribbling                                          20640\n",
       "defending                                          20640\n",
       "physic                                             20640\n",
       "Sex                                                    0"
      ]
     },
     "execution_count": 796,
     "metadata": {},
     "output_type": "execute_result"
    }
   ],
   "source": [
    "#setting the random date for non free agents.\n",
    "club_joined_date_2='18-01-2024'\n",
    "# replacing the Nan values.\n",
    "df_player.loc[:,'club_joined_date']=df_player['club_joined_date'].fillna(club_joined_date_2)\n",
    "\n",
    "df_player.isnull().sum().to_frame(name='number of missing values')"
   ]
  },
  {
   "cell_type": "markdown",
   "metadata": {},
   "source": [
    "#### working with the nation_team_id column\n"
   ]
  },
  {
   "cell_type": "markdown",
   "metadata": {},
   "source": [
    "missing values in this column indicates two things.\n",
    "1. player has played before but is not the part of the national team in the certian version of fifa game.\n",
    "2. player has never played for national team."
   ]
  },
  {
   "cell_type": "code",
   "execution_count": 797,
   "metadata": {},
   "outputs": [
    {
     "data": {
      "text/html": [
       "<div>\n",
       "<style scoped>\n",
       "    .dataframe tbody tr th:only-of-type {\n",
       "        vertical-align: middle;\n",
       "    }\n",
       "\n",
       "    .dataframe tbody tr th {\n",
       "        vertical-align: top;\n",
       "    }\n",
       "\n",
       "    .dataframe thead th {\n",
       "        text-align: right;\n",
       "    }\n",
       "</style>\n",
       "<table border=\"1\" class=\"dataframe\">\n",
       "  <thead>\n",
       "    <tr style=\"text-align: right;\">\n",
       "      <th></th>\n",
       "      <th>number of missing values</th>\n",
       "    </tr>\n",
       "  </thead>\n",
       "  <tbody>\n",
       "    <tr>\n",
       "      <th>player_id</th>\n",
       "      <td>0</td>\n",
       "    </tr>\n",
       "    <tr>\n",
       "      <th>fifa_version</th>\n",
       "      <td>0</td>\n",
       "    </tr>\n",
       "    <tr>\n",
       "      <th>long_name</th>\n",
       "      <td>0</td>\n",
       "    </tr>\n",
       "    <tr>\n",
       "      <th>player_positions</th>\n",
       "      <td>0</td>\n",
       "    </tr>\n",
       "    <tr>\n",
       "      <th>value_eur</th>\n",
       "      <td>0</td>\n",
       "    </tr>\n",
       "    <tr>\n",
       "      <th>wage_eur</th>\n",
       "      <td>0</td>\n",
       "    </tr>\n",
       "    <tr>\n",
       "      <th>dob</th>\n",
       "      <td>0</td>\n",
       "    </tr>\n",
       "    <tr>\n",
       "      <th>height_cm</th>\n",
       "      <td>0</td>\n",
       "    </tr>\n",
       "    <tr>\n",
       "      <th>weight_kg</th>\n",
       "      <td>0</td>\n",
       "    </tr>\n",
       "    <tr>\n",
       "      <th>club_team_id</th>\n",
       "      <td>0</td>\n",
       "    </tr>\n",
       "    <tr>\n",
       "      <th>club_name</th>\n",
       "      <td>0</td>\n",
       "    </tr>\n",
       "    <tr>\n",
       "      <th>league_id</th>\n",
       "      <td>0</td>\n",
       "    </tr>\n",
       "    <tr>\n",
       "      <th>league_name</th>\n",
       "      <td>0</td>\n",
       "    </tr>\n",
       "    <tr>\n",
       "      <th>club_position</th>\n",
       "      <td>0</td>\n",
       "    </tr>\n",
       "    <tr>\n",
       "      <th>club_jersey_number</th>\n",
       "      <td>0</td>\n",
       "    </tr>\n",
       "    <tr>\n",
       "      <th>club_joined_date</th>\n",
       "      <td>0</td>\n",
       "    </tr>\n",
       "    <tr>\n",
       "      <th>club_contract_valid_until_year</th>\n",
       "      <td>0</td>\n",
       "    </tr>\n",
       "    <tr>\n",
       "      <th>nationality_id</th>\n",
       "      <td>0</td>\n",
       "    </tr>\n",
       "    <tr>\n",
       "      <th>nationality_name</th>\n",
       "      <td>0</td>\n",
       "    </tr>\n",
       "    <tr>\n",
       "      <th>nation_team_id</th>\n",
       "      <td>163667</td>\n",
       "    </tr>\n",
       "    <tr>\n",
       "      <th>preferred_foot</th>\n",
       "      <td>0</td>\n",
       "    </tr>\n",
       "    <tr>\n",
       "      <th>pace</th>\n",
       "      <td>20640</td>\n",
       "    </tr>\n",
       "    <tr>\n",
       "      <th>shooting</th>\n",
       "      <td>20640</td>\n",
       "    </tr>\n",
       "    <tr>\n",
       "      <th>passing</th>\n",
       "      <td>20640</td>\n",
       "    </tr>\n",
       "    <tr>\n",
       "      <th>dribbling</th>\n",
       "      <td>20640</td>\n",
       "    </tr>\n",
       "    <tr>\n",
       "      <th>defending</th>\n",
       "      <td>20640</td>\n",
       "    </tr>\n",
       "    <tr>\n",
       "      <th>physic</th>\n",
       "      <td>20640</td>\n",
       "    </tr>\n",
       "    <tr>\n",
       "      <th>Sex</th>\n",
       "      <td>0</td>\n",
       "    </tr>\n",
       "  </tbody>\n",
       "</table>\n",
       "</div>"
      ],
      "text/plain": [
       "                                number of missing values\n",
       "player_id                                              0\n",
       "fifa_version                                           0\n",
       "long_name                                              0\n",
       "player_positions                                       0\n",
       "value_eur                                              0\n",
       "wage_eur                                               0\n",
       "dob                                                    0\n",
       "height_cm                                              0\n",
       "weight_kg                                              0\n",
       "club_team_id                                           0\n",
       "club_name                                              0\n",
       "league_id                                              0\n",
       "league_name                                            0\n",
       "club_position                                          0\n",
       "club_jersey_number                                     0\n",
       "club_joined_date                                       0\n",
       "club_contract_valid_until_year                         0\n",
       "nationality_id                                         0\n",
       "nationality_name                                       0\n",
       "nation_team_id                                    163667\n",
       "preferred_foot                                         0\n",
       "pace                                               20640\n",
       "shooting                                           20640\n",
       "passing                                            20640\n",
       "dribbling                                          20640\n",
       "defending                                          20640\n",
       "physic                                             20640\n",
       "Sex                                                    0"
      ]
     },
     "execution_count": 797,
     "metadata": {},
     "output_type": "execute_result"
    }
   ],
   "source": [
    "# using backward fill to enter the value of the nation team id used in before fifa games which will leave us with second condition.\n",
    "df_player.loc[:,'nation_team_id']=df_player.groupby('long_name')['nation_team_id'].bfill()\n",
    "df_player.isnull().sum().to_frame(name='number of missing values')"
   ]
  },
  {
   "cell_type": "code",
   "execution_count": 798,
   "metadata": {},
   "outputs": [
    {
     "data": {
      "text/html": [
       "<div>\n",
       "<style scoped>\n",
       "    .dataframe tbody tr th:only-of-type {\n",
       "        vertical-align: middle;\n",
       "    }\n",
       "\n",
       "    .dataframe tbody tr th {\n",
       "        vertical-align: top;\n",
       "    }\n",
       "\n",
       "    .dataframe thead th {\n",
       "        text-align: right;\n",
       "    }\n",
       "</style>\n",
       "<table border=\"1\" class=\"dataframe\">\n",
       "  <thead>\n",
       "    <tr style=\"text-align: right;\">\n",
       "      <th></th>\n",
       "      <th>number of missing values</th>\n",
       "    </tr>\n",
       "  </thead>\n",
       "  <tbody>\n",
       "    <tr>\n",
       "      <th>player_id</th>\n",
       "      <td>0</td>\n",
       "    </tr>\n",
       "    <tr>\n",
       "      <th>fifa_version</th>\n",
       "      <td>0</td>\n",
       "    </tr>\n",
       "    <tr>\n",
       "      <th>long_name</th>\n",
       "      <td>0</td>\n",
       "    </tr>\n",
       "    <tr>\n",
       "      <th>player_positions</th>\n",
       "      <td>0</td>\n",
       "    </tr>\n",
       "    <tr>\n",
       "      <th>value_eur</th>\n",
       "      <td>0</td>\n",
       "    </tr>\n",
       "    <tr>\n",
       "      <th>wage_eur</th>\n",
       "      <td>0</td>\n",
       "    </tr>\n",
       "    <tr>\n",
       "      <th>dob</th>\n",
       "      <td>0</td>\n",
       "    </tr>\n",
       "    <tr>\n",
       "      <th>height_cm</th>\n",
       "      <td>0</td>\n",
       "    </tr>\n",
       "    <tr>\n",
       "      <th>weight_kg</th>\n",
       "      <td>0</td>\n",
       "    </tr>\n",
       "    <tr>\n",
       "      <th>club_team_id</th>\n",
       "      <td>0</td>\n",
       "    </tr>\n",
       "    <tr>\n",
       "      <th>club_name</th>\n",
       "      <td>0</td>\n",
       "    </tr>\n",
       "    <tr>\n",
       "      <th>league_id</th>\n",
       "      <td>0</td>\n",
       "    </tr>\n",
       "    <tr>\n",
       "      <th>league_name</th>\n",
       "      <td>0</td>\n",
       "    </tr>\n",
       "    <tr>\n",
       "      <th>club_position</th>\n",
       "      <td>0</td>\n",
       "    </tr>\n",
       "    <tr>\n",
       "      <th>club_jersey_number</th>\n",
       "      <td>0</td>\n",
       "    </tr>\n",
       "    <tr>\n",
       "      <th>club_joined_date</th>\n",
       "      <td>0</td>\n",
       "    </tr>\n",
       "    <tr>\n",
       "      <th>club_contract_valid_until_year</th>\n",
       "      <td>0</td>\n",
       "    </tr>\n",
       "    <tr>\n",
       "      <th>nationality_id</th>\n",
       "      <td>0</td>\n",
       "    </tr>\n",
       "    <tr>\n",
       "      <th>nationality_name</th>\n",
       "      <td>0</td>\n",
       "    </tr>\n",
       "    <tr>\n",
       "      <th>nation_team_id</th>\n",
       "      <td>0</td>\n",
       "    </tr>\n",
       "    <tr>\n",
       "      <th>preferred_foot</th>\n",
       "      <td>0</td>\n",
       "    </tr>\n",
       "    <tr>\n",
       "      <th>pace</th>\n",
       "      <td>20640</td>\n",
       "    </tr>\n",
       "    <tr>\n",
       "      <th>shooting</th>\n",
       "      <td>20640</td>\n",
       "    </tr>\n",
       "    <tr>\n",
       "      <th>passing</th>\n",
       "      <td>20640</td>\n",
       "    </tr>\n",
       "    <tr>\n",
       "      <th>dribbling</th>\n",
       "      <td>20640</td>\n",
       "    </tr>\n",
       "    <tr>\n",
       "      <th>defending</th>\n",
       "      <td>20640</td>\n",
       "    </tr>\n",
       "    <tr>\n",
       "      <th>physic</th>\n",
       "      <td>20640</td>\n",
       "    </tr>\n",
       "    <tr>\n",
       "      <th>Sex</th>\n",
       "      <td>0</td>\n",
       "    </tr>\n",
       "  </tbody>\n",
       "</table>\n",
       "</div>"
      ],
      "text/plain": [
       "                                number of missing values\n",
       "player_id                                              0\n",
       "fifa_version                                           0\n",
       "long_name                                              0\n",
       "player_positions                                       0\n",
       "value_eur                                              0\n",
       "wage_eur                                               0\n",
       "dob                                                    0\n",
       "height_cm                                              0\n",
       "weight_kg                                              0\n",
       "club_team_id                                           0\n",
       "club_name                                              0\n",
       "league_id                                              0\n",
       "league_name                                            0\n",
       "club_position                                          0\n",
       "club_jersey_number                                     0\n",
       "club_joined_date                                       0\n",
       "club_contract_valid_until_year                         0\n",
       "nationality_id                                         0\n",
       "nationality_name                                       0\n",
       "nation_team_id                                         0\n",
       "preferred_foot                                         0\n",
       "pace                                               20640\n",
       "shooting                                           20640\n",
       "passing                                            20640\n",
       "dribbling                                          20640\n",
       "defending                                          20640\n",
       "physic                                             20640\n",
       "Sex                                                    0"
      ]
     },
     "execution_count": 798,
     "metadata": {},
     "output_type": "execute_result"
    }
   ],
   "source": [
    "# setting the random value to fill Nan in nation team id column\n",
    "national_team_id=000000\n",
    "# replacing the Nan value\n",
    "df_player.loc[:,'nation_team_id']=df_player['nation_team_id'].fillna(national_team_id)\n",
    "\n",
    "df_player.isnull().sum().to_frame(name='number of missing values')"
   ]
  },
  {
   "cell_type": "markdown",
   "metadata": {},
   "source": [
    "#### working the player attributes"
   ]
  },
  {
   "cell_type": "code",
   "execution_count": 799,
   "metadata": {},
   "outputs": [
    {
     "data": {
      "text/html": [
       "<div>\n",
       "<style scoped>\n",
       "    .dataframe tbody tr th:only-of-type {\n",
       "        vertical-align: middle;\n",
       "    }\n",
       "\n",
       "    .dataframe tbody tr th {\n",
       "        vertical-align: top;\n",
       "    }\n",
       "\n",
       "    .dataframe thead th {\n",
       "        text-align: right;\n",
       "    }\n",
       "</style>\n",
       "<table border=\"1\" class=\"dataframe\">\n",
       "  <thead>\n",
       "    <tr style=\"text-align: right;\">\n",
       "      <th></th>\n",
       "      <th>number of missing values</th>\n",
       "    </tr>\n",
       "  </thead>\n",
       "  <tbody>\n",
       "    <tr>\n",
       "      <th>player_id</th>\n",
       "      <td>0</td>\n",
       "    </tr>\n",
       "    <tr>\n",
       "      <th>fifa_version</th>\n",
       "      <td>0</td>\n",
       "    </tr>\n",
       "    <tr>\n",
       "      <th>long_name</th>\n",
       "      <td>0</td>\n",
       "    </tr>\n",
       "    <tr>\n",
       "      <th>player_positions</th>\n",
       "      <td>0</td>\n",
       "    </tr>\n",
       "    <tr>\n",
       "      <th>value_eur</th>\n",
       "      <td>0</td>\n",
       "    </tr>\n",
       "    <tr>\n",
       "      <th>wage_eur</th>\n",
       "      <td>0</td>\n",
       "    </tr>\n",
       "    <tr>\n",
       "      <th>dob</th>\n",
       "      <td>0</td>\n",
       "    </tr>\n",
       "    <tr>\n",
       "      <th>height_cm</th>\n",
       "      <td>0</td>\n",
       "    </tr>\n",
       "    <tr>\n",
       "      <th>weight_kg</th>\n",
       "      <td>0</td>\n",
       "    </tr>\n",
       "    <tr>\n",
       "      <th>club_team_id</th>\n",
       "      <td>0</td>\n",
       "    </tr>\n",
       "    <tr>\n",
       "      <th>club_name</th>\n",
       "      <td>0</td>\n",
       "    </tr>\n",
       "    <tr>\n",
       "      <th>league_id</th>\n",
       "      <td>0</td>\n",
       "    </tr>\n",
       "    <tr>\n",
       "      <th>league_name</th>\n",
       "      <td>0</td>\n",
       "    </tr>\n",
       "    <tr>\n",
       "      <th>club_position</th>\n",
       "      <td>0</td>\n",
       "    </tr>\n",
       "    <tr>\n",
       "      <th>club_jersey_number</th>\n",
       "      <td>0</td>\n",
       "    </tr>\n",
       "    <tr>\n",
       "      <th>club_joined_date</th>\n",
       "      <td>0</td>\n",
       "    </tr>\n",
       "    <tr>\n",
       "      <th>club_contract_valid_until_year</th>\n",
       "      <td>0</td>\n",
       "    </tr>\n",
       "    <tr>\n",
       "      <th>nationality_id</th>\n",
       "      <td>0</td>\n",
       "    </tr>\n",
       "    <tr>\n",
       "      <th>nationality_name</th>\n",
       "      <td>0</td>\n",
       "    </tr>\n",
       "    <tr>\n",
       "      <th>nation_team_id</th>\n",
       "      <td>0</td>\n",
       "    </tr>\n",
       "    <tr>\n",
       "      <th>preferred_foot</th>\n",
       "      <td>0</td>\n",
       "    </tr>\n",
       "    <tr>\n",
       "      <th>pace</th>\n",
       "      <td>0</td>\n",
       "    </tr>\n",
       "    <tr>\n",
       "      <th>shooting</th>\n",
       "      <td>20503</td>\n",
       "    </tr>\n",
       "    <tr>\n",
       "      <th>passing</th>\n",
       "      <td>20503</td>\n",
       "    </tr>\n",
       "    <tr>\n",
       "      <th>dribbling</th>\n",
       "      <td>20503</td>\n",
       "    </tr>\n",
       "    <tr>\n",
       "      <th>defending</th>\n",
       "      <td>20503</td>\n",
       "    </tr>\n",
       "    <tr>\n",
       "      <th>physic</th>\n",
       "      <td>20503</td>\n",
       "    </tr>\n",
       "    <tr>\n",
       "      <th>Sex</th>\n",
       "      <td>0</td>\n",
       "    </tr>\n",
       "  </tbody>\n",
       "</table>\n",
       "</div>"
      ],
      "text/plain": [
       "                                number of missing values\n",
       "player_id                                              0\n",
       "fifa_version                                           0\n",
       "long_name                                              0\n",
       "player_positions                                       0\n",
       "value_eur                                              0\n",
       "wage_eur                                               0\n",
       "dob                                                    0\n",
       "height_cm                                              0\n",
       "weight_kg                                              0\n",
       "club_team_id                                           0\n",
       "club_name                                              0\n",
       "league_id                                              0\n",
       "league_name                                            0\n",
       "club_position                                          0\n",
       "club_jersey_number                                     0\n",
       "club_joined_date                                       0\n",
       "club_contract_valid_until_year                         0\n",
       "nationality_id                                         0\n",
       "nationality_name                                       0\n",
       "nation_team_id                                         0\n",
       "preferred_foot                                         0\n",
       "pace                                                   0\n",
       "shooting                                           20503\n",
       "passing                                            20503\n",
       "dribbling                                          20503\n",
       "defending                                          20503\n",
       "physic                                             20503\n",
       "Sex                                                    0"
      ]
     },
     "execution_count": 799,
     "metadata": {},
     "output_type": "execute_result"
    }
   ],
   "source": [
    "# using the backward fill option to fill the values.\n",
    "\n",
    "df_player.loc[:,'passing']=df_player.groupby('long_name')['passing'].bfill()\n",
    "df_player.loc[:,'pace']=df_player.groupby('long_name')['pace'].bfill().bfill()\n",
    "df_player.loc[:,'shooting']=df_player.groupby('long_name')['shooting'].bfill()\n",
    "df_player.loc[:,'dribbling']=df_player.groupby('long_name')['dribbling'].bfill()\n",
    "df_player.loc[:,'defending']=df_player.groupby('long_name')['defending'].bfill()\n",
    "df_player.loc[:,'physic']=df_player.groupby('long_name')['physic'].bfill()\n",
    "\n",
    "df_player.isnull().sum().to_frame(name='number of missing values')\n",
    "\n"
   ]
  },
  {
   "cell_type": "code",
   "execution_count": 800,
   "metadata": {},
   "outputs": [],
   "source": [
    "# using the average values of all the players to fill the missing values\n",
    "\n",
    "shooting= df_player['shooting'].mean()\n",
    "passing= df_player['passing'].mean()\n",
    "dribbling= df_player['dribbling'].mean()\n",
    "defending= df_player['defending'].mean()\n",
    "physic= df_player['physic'].mean()"
   ]
  },
  {
   "cell_type": "code",
   "execution_count": 801,
   "metadata": {},
   "outputs": [
    {
     "data": {
      "text/html": [
       "<div>\n",
       "<style scoped>\n",
       "    .dataframe tbody tr th:only-of-type {\n",
       "        vertical-align: middle;\n",
       "    }\n",
       "\n",
       "    .dataframe tbody tr th {\n",
       "        vertical-align: top;\n",
       "    }\n",
       "\n",
       "    .dataframe thead th {\n",
       "        text-align: right;\n",
       "    }\n",
       "</style>\n",
       "<table border=\"1\" class=\"dataframe\">\n",
       "  <thead>\n",
       "    <tr style=\"text-align: right;\">\n",
       "      <th></th>\n",
       "      <th>number of missing values</th>\n",
       "    </tr>\n",
       "  </thead>\n",
       "  <tbody>\n",
       "    <tr>\n",
       "      <th>player_id</th>\n",
       "      <td>0</td>\n",
       "    </tr>\n",
       "    <tr>\n",
       "      <th>fifa_version</th>\n",
       "      <td>0</td>\n",
       "    </tr>\n",
       "    <tr>\n",
       "      <th>long_name</th>\n",
       "      <td>0</td>\n",
       "    </tr>\n",
       "    <tr>\n",
       "      <th>player_positions</th>\n",
       "      <td>0</td>\n",
       "    </tr>\n",
       "    <tr>\n",
       "      <th>value_eur</th>\n",
       "      <td>0</td>\n",
       "    </tr>\n",
       "    <tr>\n",
       "      <th>wage_eur</th>\n",
       "      <td>0</td>\n",
       "    </tr>\n",
       "    <tr>\n",
       "      <th>dob</th>\n",
       "      <td>0</td>\n",
       "    </tr>\n",
       "    <tr>\n",
       "      <th>height_cm</th>\n",
       "      <td>0</td>\n",
       "    </tr>\n",
       "    <tr>\n",
       "      <th>weight_kg</th>\n",
       "      <td>0</td>\n",
       "    </tr>\n",
       "    <tr>\n",
       "      <th>club_team_id</th>\n",
       "      <td>0</td>\n",
       "    </tr>\n",
       "    <tr>\n",
       "      <th>club_name</th>\n",
       "      <td>0</td>\n",
       "    </tr>\n",
       "    <tr>\n",
       "      <th>league_id</th>\n",
       "      <td>0</td>\n",
       "    </tr>\n",
       "    <tr>\n",
       "      <th>league_name</th>\n",
       "      <td>0</td>\n",
       "    </tr>\n",
       "    <tr>\n",
       "      <th>club_position</th>\n",
       "      <td>0</td>\n",
       "    </tr>\n",
       "    <tr>\n",
       "      <th>club_jersey_number</th>\n",
       "      <td>0</td>\n",
       "    </tr>\n",
       "    <tr>\n",
       "      <th>club_joined_date</th>\n",
       "      <td>0</td>\n",
       "    </tr>\n",
       "    <tr>\n",
       "      <th>club_contract_valid_until_year</th>\n",
       "      <td>0</td>\n",
       "    </tr>\n",
       "    <tr>\n",
       "      <th>nationality_id</th>\n",
       "      <td>0</td>\n",
       "    </tr>\n",
       "    <tr>\n",
       "      <th>nationality_name</th>\n",
       "      <td>0</td>\n",
       "    </tr>\n",
       "    <tr>\n",
       "      <th>nation_team_id</th>\n",
       "      <td>0</td>\n",
       "    </tr>\n",
       "    <tr>\n",
       "      <th>preferred_foot</th>\n",
       "      <td>0</td>\n",
       "    </tr>\n",
       "    <tr>\n",
       "      <th>pace</th>\n",
       "      <td>0</td>\n",
       "    </tr>\n",
       "    <tr>\n",
       "      <th>shooting</th>\n",
       "      <td>0</td>\n",
       "    </tr>\n",
       "    <tr>\n",
       "      <th>passing</th>\n",
       "      <td>0</td>\n",
       "    </tr>\n",
       "    <tr>\n",
       "      <th>dribbling</th>\n",
       "      <td>0</td>\n",
       "    </tr>\n",
       "    <tr>\n",
       "      <th>defending</th>\n",
       "      <td>0</td>\n",
       "    </tr>\n",
       "    <tr>\n",
       "      <th>physic</th>\n",
       "      <td>0</td>\n",
       "    </tr>\n",
       "    <tr>\n",
       "      <th>Sex</th>\n",
       "      <td>0</td>\n",
       "    </tr>\n",
       "  </tbody>\n",
       "</table>\n",
       "</div>"
      ],
      "text/plain": [
       "                                number of missing values\n",
       "player_id                                              0\n",
       "fifa_version                                           0\n",
       "long_name                                              0\n",
       "player_positions                                       0\n",
       "value_eur                                              0\n",
       "wage_eur                                               0\n",
       "dob                                                    0\n",
       "height_cm                                              0\n",
       "weight_kg                                              0\n",
       "club_team_id                                           0\n",
       "club_name                                              0\n",
       "league_id                                              0\n",
       "league_name                                            0\n",
       "club_position                                          0\n",
       "club_jersey_number                                     0\n",
       "club_joined_date                                       0\n",
       "club_contract_valid_until_year                         0\n",
       "nationality_id                                         0\n",
       "nationality_name                                       0\n",
       "nation_team_id                                         0\n",
       "preferred_foot                                         0\n",
       "pace                                                   0\n",
       "shooting                                               0\n",
       "passing                                                0\n",
       "dribbling                                              0\n",
       "defending                                              0\n",
       "physic                                                 0\n",
       "Sex                                                    0"
      ]
     },
     "execution_count": 801,
     "metadata": {},
     "output_type": "execute_result"
    }
   ],
   "source": [
    "# filling the values\n",
    "df_player.loc[:,'shooting']=df_player['shooting'].fillna(shooting)\n",
    "df_player.loc[:,'dribbling']=df_player['dribbling'].fillna(dribbling)\n",
    "df_player.loc[:,'passing']=df_player['passing'].fillna(passing)\n",
    "df_player.loc[:,'defending']=df_player['defending'].fillna(defending)\n",
    "df_player.loc[:,'physic']=df_player['physic'].fillna(physic)\n",
    "\n",
    "df_player.isnull().sum().to_frame(name='number of missing values')"
   ]
  },
  {
   "cell_type": "code",
   "execution_count": 802,
   "metadata": {},
   "outputs": [
    {
     "data": {
      "text/plain": [
       "array([113002.,      0., 113984.,   1318.,   1367.,   1355.,   1359.,\n",
       "         1387.])"
      ]
     },
     "execution_count": 802,
     "metadata": {},
     "output_type": "execute_result"
    }
   ],
   "source": [
    "new=df_player[df_player['nationality_name']=='England']\n",
    "new['nation_team_id'].unique()"
   ]
  },
  {
   "cell_type": "markdown",
   "metadata": {},
   "source": [
    "# Task 2)"
   ]
  },
  {
   "cell_type": "markdown",
   "metadata": {},
   "source": [
    "## a)"
   ]
  },
  {
   "cell_type": "code",
   "execution_count": 803,
   "metadata": {},
   "outputs": [
    {
     "name": "stderr",
     "output_type": "stream",
     "text": [
      "C:\\Users\\kashi\\AppData\\Local\\Temp\\ipykernel_17112\\4179296920.py:2: SettingWithCopyWarning: \n",
      "A value is trying to be set on a copy of a slice from a DataFrame.\n",
      "Try using .loc[row_indexer,col_indexer] = value instead\n",
      "\n",
      "See the caveats in the documentation: https://pandas.pydata.org/pandas-docs/stable/user_guide/indexing.html#returning-a-view-versus-a-copy\n",
      "  df_player['value_eur']=df_player['value_eur']/1000000\n",
      "C:\\Users\\kashi\\AppData\\Local\\Temp\\ipykernel_17112\\4179296920.py:4: SettingWithCopyWarning: \n",
      "A value is trying to be set on a copy of a slice from a DataFrame\n",
      "\n",
      "See the caveats in the documentation: https://pandas.pydata.org/pandas-docs/stable/user_guide/indexing.html#returning-a-view-versus-a-copy\n",
      "  df_player.rename(columns={'value_eur':'value_mio_eur'},inplace=True)\n"
     ]
    }
   ],
   "source": [
    "# converting the vlaues in million euros\n",
    "df_player['value_eur']=df_player['value_eur']/1000000\n",
    "round(df_player['value_eur'],6)\n",
    "df_player.rename(columns={'value_eur':'value_mio_eur'},inplace=True)"
   ]
  },
  {
   "cell_type": "code",
   "execution_count": 804,
   "metadata": {},
   "outputs": [
    {
     "name": "stderr",
     "output_type": "stream",
     "text": [
      "C:\\Users\\kashi\\AppData\\Local\\Temp\\ipykernel_17112\\4134852251.py:2: FutureWarning: Setting an item of incompatible dtype is deprecated and will raise in a future error of pandas. Value '[1.73 1.61 1.78 ... 1.9  1.8  1.75]' has dtype incompatible with int64, please explicitly cast to a compatible dtype first.\n",
      "  df_player.loc[:,'height_cm']/=100\n",
      "C:\\Users\\kashi\\AppData\\Local\\Temp\\ipykernel_17112\\4134852251.py:4: SettingWithCopyWarning: \n",
      "A value is trying to be set on a copy of a slice from a DataFrame\n",
      "\n",
      "See the caveats in the documentation: https://pandas.pydata.org/pandas-docs/stable/user_guide/indexing.html#returning-a-view-versus-a-copy\n",
      "  df_player.rename(columns={'height_cm':'height_m'},inplace=True)\n"
     ]
    }
   ],
   "source": [
    "# converting the height_cm into height_m\n",
    "df_player.loc[:,'height_cm']/=100\n",
    "round(df_player.loc[:,'height_cm'],2)\n",
    "df_player.rename(columns={'height_cm':'height_m'},inplace=True)"
   ]
  },
  {
   "cell_type": "code",
   "execution_count": 805,
   "metadata": {},
   "outputs": [
    {
     "name": "stderr",
     "output_type": "stream",
     "text": [
      "C:\\Users\\kashi\\AppData\\Local\\Temp\\ipykernel_17112\\2873306958.py:2: SettingWithCopyWarning: \n",
      "A value is trying to be set on a copy of a slice from a DataFrame.\n",
      "Try using .loc[row_indexer,col_indexer] = value instead\n",
      "\n",
      "See the caveats in the documentation: https://pandas.pydata.org/pandas-docs/stable/user_guide/indexing.html#returning-a-view-versus-a-copy\n",
      "  df_player['dob']=pd.to_datetime(df_player['dob'])\n",
      "C:\\Users\\kashi\\AppData\\Local\\Temp\\ipykernel_17112\\2873306958.py:3: SettingWithCopyWarning: \n",
      "A value is trying to be set on a copy of a slice from a DataFrame.\n",
      "Try using .loc[row_indexer,col_indexer] = value instead\n",
      "\n",
      "See the caveats in the documentation: https://pandas.pydata.org/pandas-docs/stable/user_guide/indexing.html#returning-a-view-versus-a-copy\n",
      "  df_player['dob'] = df_player['dob'].dt.strftime('%d-%m-%Y')\n"
     ]
    }
   ],
   "source": [
    "# converting date \n",
    "df_player['dob']=pd.to_datetime(df_player['dob'])\n",
    "df_player['dob'] = df_player['dob'].dt.strftime('%d-%m-%Y')\n"
   ]
  },
  {
   "cell_type": "markdown",
   "metadata": {},
   "source": [
    "## b)"
   ]
  },
  {
   "cell_type": "code",
   "execution_count": 806,
   "metadata": {},
   "outputs": [
    {
     "name": "stdout",
     "output_type": "stream",
     "text": [
      "total number of unique players that are involved in the game are 55328\n"
     ]
    }
   ],
   "source": [
    "# total number of unique players is given by .unique operation\n",
    "unique_players=len(df_player['long_name'].unique())\n",
    "print(f'total number of unique players that are involved in the game are {unique_players}')"
   ]
  },
  {
   "cell_type": "code",
   "execution_count": 807,
   "metadata": {},
   "outputs": [
    {
     "name": "stdout",
     "output_type": "stream",
     "text": [
      "The younget player is Patrick Amoako Nuamah with date of brith of 31-12-2005.\n"
     ]
    }
   ],
   "source": [
    "# finding the youngest player in thr game\n",
    "df_player.sort_values(by='dob',ascending=False)\n",
    "youngest_player_id=df_player['dob'].idxmax()\n",
    "name=df_player.loc[youngest_player_id,'long_name']\n",
    "date_of_birth=df_player['dob'].max()\n",
    "print(f'The younget player is {name} with date of brith of {date_of_birth}.')\n",
    "\n"
   ]
  },
  {
   "cell_type": "markdown",
   "metadata": {},
   "source": [
    "## c)"
   ]
  },
  {
   "cell_type": "code",
   "execution_count": 808,
   "metadata": {},
   "outputs": [
    {
     "name": "stdout",
     "output_type": "stream",
     "text": [
      "The smallest player in height is Kiki Pickett with the height of 1.49.\n",
      "The tallest player in height is Kristof Van Hout with the height of 2.08.\n"
     ]
    }
   ],
   "source": [
    "# smallest and largest players based on height.\n",
    "smallest=df_player.loc[df_player['height_m'].idxmin(),'long_name']\n",
    "tallest=df_player.loc[df_player['height_m'].idxmax(),'long_name']\n",
    "s_hight=df_player['height_m'].min()\n",
    "l_height=df_player['height_m'].max()\n",
    "print(f'The smallest player in height is {smallest} with the height of {s_hight}.')\n",
    "print(f'The tallest player in height is {tallest} with the height of {l_height}.')"
   ]
  },
  {
   "cell_type": "markdown",
   "metadata": {},
   "source": [
    "+ we have decided to choose the thinnest and thickest players based on body weight"
   ]
  },
  {
   "cell_type": "code",
   "execution_count": 809,
   "metadata": {},
   "outputs": [
    {
     "name": "stdout",
     "output_type": "stream",
     "text": [
      "The thinnest players based on weight are Elena Julve Pérez, Koko Ange N'Guessan, Claudia Roldán Blanco, 三浦 成美, 许燕露 with the weight of 45.\n",
      "The thickest players based on weight are Saheed Adebayo Akinfenwa, Costel Fane Pantilimon, Kristof Van Hout, Tim Wiese with the weight of 110.\n"
     ]
    }
   ],
   "source": [
    "#  thinnest and thickest players based on weight\n",
    "thinnest = df_player[df_player['weight_kg'] == df_player['weight_kg'].min()]\n",
    "thickest = df_player[df_player['weight_kg'] == df_player['weight_kg'].max()]\n",
    "# making sure one name appears only once\n",
    "thinnest_player = thinnest['long_name'].unique()\n",
    "thickest_player = thickest['long_name'].unique()\n",
    "# checking the maximum and minimum weight of the player\n",
    "thin_weight = df_player['weight_kg'].min()\n",
    "thick_weight = df_player['weight_kg'].max()\n",
    "# as we have many players thin and thick based on wieght so we got a list in order to print it properly we will join the names on ','\n",
    "thinnest_players_str = ', '.join(thinnest_player)\n",
    "thickest_players_str = ', '.join(thickest_player)\n",
    "\n",
    "# Print statements\n",
    "print(f'The thinnest players based on weight are {thinnest_players_str} with the weight of {thin_weight}.')\n",
    "print(f'The thickest players based on weight are {thickest_players_str} with the weight of {thick_weight}.')\n"
   ]
  },
  {
   "cell_type": "markdown",
   "metadata": {},
   "source": [
    "  The code below is taken from the notebook provided by professor for matplotlib only values are changed in this code."
   ]
  },
  {
   "cell_type": "code",
   "execution_count": 810,
   "metadata": {},
   "outputs": [
    {
     "data": {
      "image/png": "[encoded data removed]",
      "text/plain": [
       "<Figure size 1000x600 with 1 Axes>"
      ]
     },
     "metadata": {},
     "output_type": "display_data"
    }
   ],
   "source": [
    "from scipy.stats import linregress\n",
    "\n",
    "np.random.seed(0)\n",
    "x = df_player['pace']\n",
    "y = df_player['physic'] \n",
    "\n",
    "\n",
    "slope, intercept, r_value, p_value, std_err = linregress(x, y)\n",
    "regression_line = slope * x + intercept\n",
    "\n",
    "\n",
    "plt.figure(figsize=(10, 6))\n",
    "plt.scatter(x, y, color='white')\n",
    "plt.plot(x, regression_line, color='red', label='Regression Line', linewidth=2)\n",
    "\n",
    "\n",
    "plt.title(\"pace vs physic\", fontsize=16)\n",
    "plt.xlabel(\"Physic\", fontsize=14)\n",
    "plt.ylabel(\"pace\", fontsize=14)\n",
    "\n",
    "\n",
    "plt.legend()\n",
    "\n",
    "\n",
    "plt.grid(True)\n",
    "plt.show()"
   ]
  },
  {
   "cell_type": "markdown",
   "metadata": {},
   "source": [
    "we can see from the graph that the pace decreases when the physic increases in other words slim players are fast but less robust, tall players are rather slow but more robust"
   ]
  },
  {
   "cell_type": "markdown",
   "metadata": {},
   "source": [
    "## d)"
   ]
  },
  {
   "cell_type": "code",
   "execution_count": 811,
   "metadata": {},
   "outputs": [
    {
     "name": "stdout",
     "output_type": "stream",
     "text": [
      "The player who has recieved highest wage is Lionel Andrés Messi Cuccittini with wage of 575.0 thousand euros per week.\n"
     ]
    }
   ],
   "source": [
    "# player with the highest wages\n",
    "name=df_player.loc[df_player['wage_eur'].idxmax(),'long_name']\n",
    "amount=df_player['wage_eur'].max()\n",
    "print(f'The player who has recieved highest wage is {name} with wage of {amount/1000} thousand euros per week.')"
   ]
  },
  {
   "cell_type": "code",
   "execution_count": 812,
   "metadata": {},
   "outputs": [
    {
     "name": "stdout",
     "output_type": "stream",
     "text": [
      "The player who has recieved highest wage in EA Sports FC 24 game is Kevin De Bruyne with wage of 350.0 thousand euros.\n"
     ]
    }
   ],
   "source": [
    "# player has recieved highest wage in Ea Sports FC 24 game\n",
    "df_new_24= df_player[df_player['fifa_version']==24]\n",
    "name2=df_new_24.loc[df_new['wage_eur'].idxmax(),'long_name']\n",
    "amount2=df_new['wage_eur'].max()\n",
    "print(f'The player who has recieved highest wage in EA Sports FC 24 game is {name2} with wage of {amount2/1000} thousand euros.')"
   ]
  },
  {
   "cell_type": "code",
   "execution_count": 813,
   "metadata": {},
   "outputs": [
    {
     "name": "stdout",
     "output_type": "stream",
     "text": [
      "The top 10 highest paid players in the EA Sports FC 24 are:\n",
      "1. Kevin De Bruyne\n",
      "2. Erling Braut Haaland\n",
      "3. Robert Lewandowski\n",
      "4. Vinícius José Paixão de Oliveira Júnior\n",
      "5. Federico Santiago Valverde Dipetta\n",
      "6. Bernardo Mota Veiga de Carvalho e Silva\n",
      "7. Mohamed Salah Ghaly\n",
      "8. Bruno Miguel Borges Fernandes\n",
      "9. Rúben dos Santos Gato Alves Dias\n",
      "10. Rodrigo Hernández Cascante\n"
     ]
    }
   ],
   "source": [
    "# Sort the DataFrame by wage in descending order and getting the top 10 highest paid players\n",
    "df_new = df_new_24.sort_values(by='wage_eur', ascending=False)\n",
    "top_10_names = df_new['long_name'].head(10)\n",
    "\n",
    "# Print the result\n",
    "print('The top 10 highest paid players in the EA Sports FC 24 are:')\n",
    "for i, name in enumerate(top_10_names, 1):\n",
    "    print(f'{i}. {name}')"
   ]
  },
  {
   "cell_type": "markdown",
   "metadata": {},
   "source": [
    "## e)"
   ]
  },
  {
   "cell_type": "code",
   "execution_count": 814,
   "metadata": {},
   "outputs": [
    {
     "name": "stdout",
     "output_type": "stream",
     "text": [
      "The names of all German stadiums that are involved in the game from FIFA 15 up to EA Sports FC 24 are:\n",
      "1. Molton Road (Sheldon Stadium)\n",
      "2. StrongHER Stadium\n",
      "3. Sanderson Park (FIFA 13 NEW generic)\n",
      "4. Deutsche Bank Park\n",
      "5. PreZero Arena\n",
      "6. Europa-Park Stadion\n",
      "7. BayArena\n",
      "8. _Oktigann Park\n",
      "9. RheinEnergieStadion\n",
      "10. Waldstadion (Fussballstadion)\n",
      "11. Wohninvest Weserstadion\n",
      "12. Red Bull Arena (Leipzig)\n",
      "13. Max-Morlock-Stadion\n",
      "14. BORUSSIA-PARK\n",
      "15. Olympiastadion\n",
      "16. Signal Iduna Park\n",
      "17. Volkswagen Arena\n",
      "18. Stadion An der Alten Försterei\n",
      "19. Opel Arena\n",
      "20. WWK Arena\n",
      "21. Mercedes-Benz Arena (Stuttgart)\n",
      "22. Vonovia Ruhrstadion\n",
      "23. Volksparkstadion\n",
      "24. Veltins-Arena\n",
      "25. Forest Park Stadium (Square Ground)\n",
      "26. HDI-Arena\n",
      "27. Düsseldorf-Arena\n",
      "28. Stadion Europa (Generic Europe 2)\n",
      "29. Euro Arena\n",
      "30. Benteler-Arena\n",
      "31. Millerntor-Stadion\n",
      "32. Stade Municipal\n",
      "33. Sportpark Ronhof Thomas Sommer\n",
      "34. Crown Lane\n",
      "35. Stadion Neder\n",
      "36. Court Lane\n",
      "37. Town Park\n",
      "38. SchücoArena\n",
      "39. Euro Park\n",
      "40. Stadion 23. Maj\n",
      "41. Stadion Olympik\n",
      "42. 447\n",
      "43. Ivy Lane\n",
      "44. Allianz Arena\n",
      "45. Estadio de las Artes (Generic Stadium NG)\n",
      "46. O Dromo\n"
     ]
    }
   ],
   "source": [
    "# DataFrame for teams from Germany\n",
    "df_new_germany = df_team[df_team['nationality_name'] == 'Germany']\n",
    "\n",
    "# stadium should not be repeated\n",
    "stadiums_names = df_new_germany['home_stadium'].unique()\n",
    "\n",
    "print('The names of all German stadiums that are involved in the game from FIFA 15 up to EA Sports FC 24 are:')\n",
    "for i, stadium in enumerate(stadiums_names, 1):\n",
    "    print(f'{i}. {stadium}')\n"
   ]
  },
  {
   "cell_type": "markdown",
   "metadata": {},
   "source": [
    "## f)"
   ]
  },
  {
   "cell_type": "code",
   "execution_count": 815,
   "metadata": {},
   "outputs": [
    {
     "data": {
      "text/plain": [
       "643    1945-07-29\n",
       "1086   1945-09-10\n",
       "1257   1947-09-02\n",
       "498    1948-11-09\n",
       "770    1949-09-03\n",
       "Name: dob, dtype: datetime64[ns]"
      ]
     },
     "execution_count": 815,
     "metadata": {},
     "output_type": "execute_result"
    }
   ],
   "source": [
    "# checking the dob of oldests coaches in the game.\n",
    "df_coach['dob'].sort_values(ascending=True).head(5)"
   ]
  },
  {
   "cell_type": "code",
   "execution_count": 816,
   "metadata": {},
   "outputs": [
    {
     "data": {
      "text/html": [
       "<div>\n",
       "<style scoped>\n",
       "    .dataframe tbody tr th:only-of-type {\n",
       "        vertical-align: middle;\n",
       "    }\n",
       "\n",
       "    .dataframe tbody tr th {\n",
       "        vertical-align: top;\n",
       "    }\n",
       "\n",
       "    .dataframe thead th {\n",
       "        text-align: right;\n",
       "    }\n",
       "</style>\n",
       "<table border=\"1\" class=\"dataframe\">\n",
       "  <thead>\n",
       "    <tr style=\"text-align: right;\">\n",
       "      <th></th>\n",
       "      <th>team_id</th>\n",
       "      <th>fifa_version</th>\n",
       "      <th>team_name</th>\n",
       "      <th>league_id</th>\n",
       "      <th>league_name</th>\n",
       "      <th>nationality_id</th>\n",
       "      <th>nationality_name</th>\n",
       "      <th>overall</th>\n",
       "      <th>attack</th>\n",
       "      <th>midfield</th>\n",
       "      <th>defence</th>\n",
       "      <th>coach_id</th>\n",
       "      <th>home_stadium</th>\n",
       "      <th>whole_team_average_age</th>\n",
       "      <th>captain</th>\n",
       "      <th>penalties</th>\n",
       "      <th>left_corner</th>\n",
       "      <th>right_corner</th>\n",
       "      <th>Sex</th>\n",
       "    </tr>\n",
       "  </thead>\n",
       "  <tbody>\n",
       "    <tr>\n",
       "      <th>422</th>\n",
       "      <td>101047</td>\n",
       "      <td>24</td>\n",
       "      <td>Dynamo Kyiv</td>\n",
       "      <td>332</td>\n",
       "      <td>Premier League</td>\n",
       "      <td>49</td>\n",
       "      <td>Ukraine</td>\n",
       "      <td>71</td>\n",
       "      <td>69</td>\n",
       "      <td>71</td>\n",
       "      <td>70</td>\n",
       "      <td>459149.0</td>\n",
       "      <td>Stadion Olympik</td>\n",
       "      <td>23.61</td>\n",
       "      <td>244373.0</td>\n",
       "      <td>244373.0</td>\n",
       "      <td>244374.0</td>\n",
       "      <td>244374.0</td>\n",
       "      <td>1.0</td>\n",
       "    </tr>\n",
       "  </tbody>\n",
       "</table>\n",
       "</div>"
      ],
      "text/plain": [
       "     team_id  fifa_version    team_name  league_id     league_name  \\\n",
       "422   101047            24  Dynamo Kyiv        332  Premier League   \n",
       "\n",
       "     nationality_id nationality_name  overall  attack  midfield  defence  \\\n",
       "422              49          Ukraine       71      69        71       70   \n",
       "\n",
       "     coach_id     home_stadium  whole_team_average_age   captain  penalties  \\\n",
       "422  459149.0  Stadion Olympik                   23.61  244373.0   244373.0   \n",
       "\n",
       "     left_corner  right_corner  Sex  \n",
       "422     244374.0      244374.0  1.0  "
      ]
     },
     "execution_count": 816,
     "metadata": {},
     "output_type": "execute_result"
    }
   ],
   "source": [
    "# getting the coach id of the oldest coach\n",
    "coach_id_old=df_coach.loc[df_coach['dob'].idxmin(),'coach_id']\n",
    "\n",
    "# checking if the coach is in the latest version of the game\n",
    "df_team_24=df_team[df_team['fifa_version']==24]\n",
    "df_detail=df_team_24[df_team_24['coach_id']==coach_id_old]\n",
    "df_detail\n",
    "\n"
   ]
  },
  {
   "cell_type": "markdown",
   "metadata": {},
   "source": [
    " + as the coach is present in the latest version of the game so he is the oldest active coach nowadays"
   ]
  },
  {
   "cell_type": "code",
   "execution_count": 817,
   "metadata": {},
   "outputs": [
    {
     "name": "stdout",
     "output_type": "stream",
     "text": [
      "The oldest coach active nowadays(EA Sports FC 24) is Mircea Lucescu with the dob of 1945-07-29.\n"
     ]
    }
   ],
   "source": [
    "# getting th details of the coach\n",
    "name= df_coach.loc[df_coach['dob'].idxmin(),'long_name']\n",
    "dob=str(df_coach.loc[df_coach['dob'].idxmin(),'dob'])\n",
    "print(f'The oldest coach active nowadays(EA Sports FC 24) is {name} with the dob of {dob[:10]}.')"
   ]
  },
  {
   "cell_type": "markdown",
   "metadata": {},
   "source": [
    "## g)"
   ]
  },
  {
   "cell_type": "markdown",
   "metadata": {},
   "source": [
    "we are visualizing all national teams in EA Sports FC 24 and number of players associated with each national team"
   ]
  },
  {
   "cell_type": "code",
   "execution_count": 818,
   "metadata": {},
   "outputs": [],
   "source": [
    "# data frame for all male players who are in EA Sports FC 24\n",
    "df_player_24=df_player[(df_player['fifa_version']==24)&(df_player['Sex']==1)]"
   ]
  },
  {
   "cell_type": "code",
   "execution_count": 819,
   "metadata": {},
   "outputs": [
    {
     "data": {
      "text/html": [
       "<div>\n",
       "<style scoped>\n",
       "    .dataframe tbody tr th:only-of-type {\n",
       "        vertical-align: middle;\n",
       "    }\n",
       "\n",
       "    .dataframe tbody tr th {\n",
       "        vertical-align: top;\n",
       "    }\n",
       "\n",
       "    .dataframe thead th {\n",
       "        text-align: right;\n",
       "    }\n",
       "</style>\n",
       "<table border=\"1\" class=\"dataframe\">\n",
       "  <thead>\n",
       "    <tr style=\"text-align: right;\">\n",
       "      <th></th>\n",
       "      <th>nationality_name</th>\n",
       "      <th>nation_team_id</th>\n",
       "    </tr>\n",
       "  </thead>\n",
       "  <tbody>\n",
       "    <tr>\n",
       "      <th>5916</th>\n",
       "      <td>Argentina</td>\n",
       "      <td>1369.0</td>\n",
       "    </tr>\n",
       "    <tr>\n",
       "      <th>7199</th>\n",
       "      <td>Argentina</td>\n",
       "      <td>1369.0</td>\n",
       "    </tr>\n",
       "    <tr>\n",
       "      <th>5787</th>\n",
       "      <td>Argentina</td>\n",
       "      <td>1369.0</td>\n",
       "    </tr>\n",
       "    <tr>\n",
       "      <th>8422</th>\n",
       "      <td>Argentina</td>\n",
       "      <td>1369.0</td>\n",
       "    </tr>\n",
       "    <tr>\n",
       "      <th>5796</th>\n",
       "      <td>Argentina</td>\n",
       "      <td>1369.0</td>\n",
       "    </tr>\n",
       "    <tr>\n",
       "      <th>...</th>\n",
       "      <td>...</td>\n",
       "      <td>...</td>\n",
       "    </tr>\n",
       "    <tr>\n",
       "      <th>8699</th>\n",
       "      <td>Wales</td>\n",
       "      <td>1367.0</td>\n",
       "    </tr>\n",
       "    <tr>\n",
       "      <th>10521</th>\n",
       "      <td>Wales</td>\n",
       "      <td>1367.0</td>\n",
       "    </tr>\n",
       "    <tr>\n",
       "      <th>8846</th>\n",
       "      <td>Wales</td>\n",
       "      <td>1367.0</td>\n",
       "    </tr>\n",
       "    <tr>\n",
       "      <th>10807</th>\n",
       "      <td>Wales</td>\n",
       "      <td>1367.0</td>\n",
       "    </tr>\n",
       "    <tr>\n",
       "      <th>8912</th>\n",
       "      <td>Wales</td>\n",
       "      <td>1367.0</td>\n",
       "    </tr>\n",
       "  </tbody>\n",
       "</table>\n",
       "<p>2025 rows × 2 columns</p>\n",
       "</div>"
      ],
      "text/plain": [
       "      nationality_name  nation_team_id\n",
       "5916         Argentina          1369.0\n",
       "7199         Argentina          1369.0\n",
       "5787         Argentina          1369.0\n",
       "8422         Argentina          1369.0\n",
       "5796         Argentina          1369.0\n",
       "...                ...             ...\n",
       "8699             Wales          1367.0\n",
       "10521            Wales          1367.0\n",
       "8846             Wales          1367.0\n",
       "10807            Wales          1367.0\n",
       "8912             Wales          1367.0\n",
       "\n",
       "[2025 rows x 2 columns]"
      ]
     },
     "execution_count": 819,
     "metadata": {},
     "output_type": "execute_result"
    }
   ],
   "source": [
    "# creating a new data frame with two columns only nationality name and nation team id.\n",
    "df_national_players=df_player_24[['nationality_name','nation_team_id']]\n",
    "df_national_players=df_national_players.sort_values(by='nationality_name',ascending=True)\n",
    "\n",
    "# droping those rows who have nation_team_id as zero (players who do not play for their national team)   the value zero is set during task 1.\n",
    "df_national_players=df_national_players[df_national_players['nation_team_id']!=0]\n",
    "df_national_players\n"
   ]
  },
  {
   "cell_type": "code",
   "execution_count": 820,
   "metadata": {},
   "outputs": [
    {
     "data": {
      "text/plain": [
       "(58, 2)"
      ]
     },
     "execution_count": 820,
     "metadata": {},
     "output_type": "execute_result"
    }
   ],
   "source": [
    "# creating a new datafram which contain the count of players associated with national team.\n",
    "count = df_national_players['nationality_name'].value_counts()\n",
    "count_df = count.reset_index()\n",
    "count_df.columns = ['nationality_name', 'count']\n",
    "count_df.shape"
   ]
  },
  {
   "cell_type": "code",
   "execution_count": 821,
   "metadata": {},
   "outputs": [
    {
     "data": {
      "image/png": "[encoded data removed]",
      "text/plain": [
       "<Figure size 1200x800 with 1 Axes>"
      ]
     },
     "metadata": {},
     "output_type": "display_data"
    }
   ],
   "source": [
    "# plotting the result\n",
    "plt.figure(figsize=(12, 8))\n",
    "x=count_df['nationality_name']\n",
    "y=count_df['count']\n",
    "plt.bar(x, y,color='skyblue')\n",
    "plt.xlabel('Nationality')\n",
    "plt.ylabel('NUmber of players')\n",
    "plt.title('count of players associated with national teams in EA Sports FC 24')\n",
    "plt.xticks(rotation=90) \n",
    "plt.tight_layout()\n",
    "plt.show()\n"
   ]
  },
  {
   "cell_type": "markdown",
   "metadata": {},
   "source": [
    "## h)"
   ]
  },
  {
   "cell_type": "code",
   "execution_count": 822,
   "metadata": {},
   "outputs": [
    {
     "data": {
      "image/png": "[encoded data removed]",
      "text/plain": [
       "<Figure size 1000x600 with 2 Axes>"
      ]
     },
     "metadata": {},
     "output_type": "display_data"
    }
   ],
   "source": [
    "# creating a data frame which only contains players from EA Sports FC 24\n",
    "df_players_24 = df_player[df_player['fifa_version'] == 24]\n",
    "\n",
    "# Plotting scatter plot \n",
    "plt.figure(figsize=(10, 6)) \n",
    "plt.scatter(x=df_players_24['height_m'], y=df_players_24['weight_kg'], c=df_players_24['pace'], cmap='coolwarm', vmin=df_players_24['pace'].min(), vmax=df_players_24['pace'].max())\n",
    "plt.colorbar(label='Pace')  \n",
    "plt.xlabel('Height (m)')\n",
    "plt.ylabel('Weight (kg)')\n",
    "plt.title('Scatter plot of Height vs Weight colored by Pace')\n",
    "plt.show()\n"
   ]
  },
  {
   "cell_type": "markdown",
   "metadata": {},
   "source": [
    "+ it can be seen that the players with high weight and large height are usually slow and the players with low weight and small height are usually fast"
   ]
  },
  {
   "cell_type": "markdown",
   "metadata": {},
   "source": [
    "## i)\n"
   ]
  },
  {
   "cell_type": "code",
   "execution_count": 823,
   "metadata": {},
   "outputs": [
    {
     "name": "stderr",
     "output_type": "stream",
     "text": [
      "C:\\Users\\kashi\\AppData\\Local\\Temp\\ipykernel_17112\\358390245.py:2: SettingWithCopyWarning: \n",
      "A value is trying to be set on a copy of a slice from a DataFrame.\n",
      "Try using .loc[row_indexer,col_indexer] = value instead\n",
      "\n",
      "See the caveats in the documentation: https://pandas.pydata.org/pandas-docs/stable/user_guide/indexing.html#returning-a-view-versus-a-copy\n",
      "  df_player['average_skills']=(df_player['pace']+df_player['shooting']+df_player['passing']+df_player['dribbling']+df_player['defending']+df_player['physic'])/6\n",
      "C:\\Users\\kashi\\AppData\\Local\\Temp\\ipykernel_17112\\358390245.py:3: SettingWithCopyWarning: \n",
      "A value is trying to be set on a copy of a slice from a DataFrame.\n",
      "Try using .loc[row_indexer,col_indexer] = value instead\n",
      "\n",
      "See the caveats in the documentation: https://pandas.pydata.org/pandas-docs/stable/user_guide/indexing.html#returning-a-view-versus-a-copy\n",
      "  df_player['average_skills']=df_player.loc[:,'average_skills'].astype(int)\n"
     ]
    }
   ],
   "source": [
    "#creating a column named average skills\n",
    "df_player['average_skills']=(df_player['pace']+df_player['shooting']+df_player['passing']+df_player['dribbling']+df_player['defending']+df_player['physic'])/6\n",
    "df_player['average_skills']=df_player.loc[:,'average_skills'].astype(int)"
   ]
  },
  {
   "cell_type": "code",
   "execution_count": 824,
   "metadata": {},
   "outputs": [],
   "source": [
    "# creating a data fram which has only players from EA Sports FC 24\n",
    "df_player_24=df_player[(df_player['fifa_version']==24)]"
   ]
  },
  {
   "cell_type": "code",
   "execution_count": 825,
   "metadata": {},
   "outputs": [],
   "source": [
    "# creating two data frames with only male players and only female players from EA Sports FC.\n",
    "df_male_players=df_player_24[(df_player_24['Sex']==1)]\n",
    "df_female_players=df_player_24[(df_player_24['Sex']==0)]"
   ]
  },
  {
   "cell_type": "code",
   "execution_count": 826,
   "metadata": {},
   "outputs": [
    {
     "name": "stdout",
     "output_type": "stream",
     "text": [
      "The  female player with the best average in EA SPorts FC 24 skills is Alexia Putellas Segura with average skill of 84.\n",
      "The  male player with the best average skills in EA SPorts FC 24 is Federico Santiago Valverde Dipetta with average skill of 83.\n"
     ]
    }
   ],
   "source": [
    "# male and female player ids with best skills\n",
    "id_female = df_female_players.loc[(df_female_players['average_skills'].idxmax())]\n",
    "id_male = df_male_players.loc[(df_male_players['average_skills'].idxmax())]\n",
    "\n",
    "# male and female player skill and name\n",
    "skill_male=id_male['average_skills']\n",
    "skill_female=id_female['average_skills']\n",
    "name_female=id_female['long_name']\n",
    "name_male=id_male['long_name']\n",
    "# printing the statements\n",
    "print(f'The  female player with the best average in EA SPorts FC 24 skills is {name_female} with average skill of {skill_female}.')\n",
    "print(f'The  male player with the best average skills in EA SPorts FC 24 is {name_male} with average skill of {skill_male}.')"
   ]
  },
  {
   "cell_type": "code",
   "execution_count": 827,
   "metadata": {},
   "outputs": [
    {
     "name": "stdout",
     "output_type": "stream",
     "text": [
      "The players who have the best measured average skill across all versions are: Alexia Putellas Segura, Lucia Roberta Tough Bronze\n"
     ]
    }
   ],
   "source": [
    "# getting the dataframe of players with best average skills\n",
    "best_player = df_player[df_player['average_skills'] == df_player['average_skills'].max()]\n",
    "best_player_name = best_player['long_name'].unique()\n",
    "\n",
    "# making it proper for printing \n",
    "best_player_name = ', '.join(best_player_name)\n",
    "# printing the statement\n",
    "\n",
    "print(f'The players who have the best measured average skill across all versions are: {best_player_name}')"
   ]
  },
  {
   "cell_type": "code",
   "execution_count": 828,
   "metadata": {},
   "outputs": [
    {
     "name": "stdout",
     "output_type": "stream",
     "text": [
      "The top 10 players with highest skills are:\n",
      "1. Alexia Putellas Segura\n",
      "2. Lucia Roberta Tough Bronze\n",
      "3. Alexia Putellas Segura\n",
      "4. Federico Santiago Valverde Dipetta\n",
      "5. Leon Christoph Goretzka\n",
      "6. Fridolina Rolfö\n",
      "7. Amel Majri\n",
      "8. Carli Anne Hollins\n",
      "9. Carli Anne Hollins\n",
      "10. Carli Anne Hollins\n"
     ]
    }
   ],
   "source": [
    "# sorting the players according to average_skills\n",
    "df_player=df_player.sort_values(by='average_skills', ascending=False).head(10)\n",
    "\n",
    "# getting the name of all the players\n",
    "names=df_player['long_name']\n",
    "\n",
    "# printing the statement\n",
    "print('The top 10 players with highest skills are:')\n",
    "for i, name in enumerate(names, 1):\n",
    "    print(f'{i}. {name}')"
   ]
  },
  {
   "cell_type": "markdown",
   "metadata": {},
   "source": [
    "+ some names are repeated which means that the player has different average skills in another version of the game but still makes it to top 10."
   ]
  },
  {
   "cell_type": "markdown",
   "metadata": {},
   "source": [
    "## j)"
   ]
  },
  {
   "cell_type": "code",
   "execution_count": 845,
   "metadata": {},
   "outputs": [],
   "source": [
    "# creating the new data frame with only players which are avilable in EA Sports FC 24\n",
    "df_player_24=df_player[df_player['fifa_version']==24]\n"
   ]
  },
  {
   "cell_type": "code",
   "execution_count": 851,
   "metadata": {},
   "outputs": [
    {
     "data": {
      "text/html": [
       "<div>\n",
       "<style scoped>\n",
       "    .dataframe tbody tr th:only-of-type {\n",
       "        vertical-align: middle;\n",
       "    }\n",
       "\n",
       "    .dataframe tbody tr th {\n",
       "        vertical-align: top;\n",
       "    }\n",
       "\n",
       "    .dataframe thead th {\n",
       "        text-align: right;\n",
       "    }\n",
       "</style>\n",
       "<table border=\"1\" class=\"dataframe\">\n",
       "  <thead>\n",
       "    <tr style=\"text-align: right;\">\n",
       "      <th></th>\n",
       "      <th>club_name</th>\n",
       "      <th>count</th>\n",
       "    </tr>\n",
       "  </thead>\n",
       "  <tbody>\n",
       "    <tr>\n",
       "      <th>0</th>\n",
       "      <td>free_agent</td>\n",
       "      <td>148</td>\n",
       "    </tr>\n",
       "    <tr>\n",
       "      <th>1</th>\n",
       "      <td>Liverpool</td>\n",
       "      <td>53</td>\n",
       "    </tr>\n",
       "    <tr>\n",
       "      <th>2</th>\n",
       "      <td>River Plate</td>\n",
       "      <td>49</td>\n",
       "    </tr>\n",
       "    <tr>\n",
       "      <th>3</th>\n",
       "      <td>Sevilla</td>\n",
       "      <td>34</td>\n",
       "    </tr>\n",
       "    <tr>\n",
       "      <th>4</th>\n",
       "      <td>Nantes</td>\n",
       "      <td>34</td>\n",
       "    </tr>\n",
       "  </tbody>\n",
       "</table>\n",
       "</div>"
      ],
      "text/plain": [
       "     club_name  count\n",
       "0   free_agent    148\n",
       "1    Liverpool     53\n",
       "2  River Plate     49\n",
       "3      Sevilla     34\n",
       "4       Nantes     34"
      ]
     },
     "execution_count": 851,
     "metadata": {},
     "output_type": "execute_result"
    }
   ],
   "source": [
    "df_players_in_team=df_players_24[['club_name']]\n",
    "df_players_in_team\n",
    "player_count = df_players_in_team['club_name'].value_counts()\n",
    "player_count_df = player_count.reset_index()\n",
    "player_count_df.columns = ['club_name', 'count']\n",
    "player_count_df.head()"
   ]
  },
  {
   "cell_type": "code",
   "execution_count": 852,
   "metadata": {},
   "outputs": [],
   "source": [
    "# The fallwoing code is taken from chatgpt to get the values from index (0-20, 500-510, last 20)\n",
    "entries = player_count_df['club_name'].iloc[:20].tolist() + player_count_df['club_name'].iloc[500:510].tolist() + player_count_df['club_name'].iloc[-20:].tolist()\n",
    "counts = player_count_df['count'].iloc[:20].tolist() + player_count_df['count'].iloc[500:510].tolist() + player_count_df['count'].iloc[-20:].tolist()"
   ]
  },
  {
   "cell_type": "code",
   "execution_count": 853,
   "metadata": {},
   "outputs": [
    {
     "data": {
      "image/png": "[encoded data removed]",
      "text/plain": [
       "<Figure size 1200x800 with 1 Axes>"
      ]
     },
     "metadata": {},
     "output_type": "display_data"
    }
   ],
   "source": [
    "# plotting the graph\n",
    "plt.figure(figsize=(12, 8))\n",
    "plt.bar(entries ,counts ,color='skyblue')\n",
    "plt.title('Squad Strengths Distributed in EA Sports FC 24')\n",
    "plt.xlabel('Team Name')\n",
    "plt.ylabel('Number of Players')\n",
    "plt.xticks(rotation=-90)\n",
    "plt.tight_layout()\n",
    "plt.show()\n"
   ]
  },
  {
   "cell_type": "markdown",
   "metadata": {},
   "source": [
    "+ the index values for teams in the above graph start from 0-20 and then 500 to 510 then last 20."
   ]
  },
  {
   "cell_type": "markdown",
   "metadata": {},
   "source": [
    "## k)"
   ]
  },
  {
   "cell_type": "code",
   "execution_count": null,
   "metadata": {},
   "outputs": [],
   "source": [
    "# number of teams in each game \n",
    "team_count = df_team.groupby('fifa_version').size().reset_index(name='number of teams')\n",
    "team_count"
   ]
  },
  {
   "cell_type": "code",
   "execution_count": null,
   "metadata": {},
   "outputs": [],
   "source": [
    "# ploting the number of teams w.rt fifa_version.\n",
    "plt.figure(figsize=(8, 5))\n",
    "x=team_count['fifa_version']\n",
    "y=team_count['number of teams']\n",
    "\n",
    "plt.scatter(x, y, color='blue')\n",
    "slope, intercept, r_value, p_value, std_err = linregress(x, y)\n",
    "regression_line = slope * x + intercept\n",
    "plt.plot(x, regression_line, color='red', label='Trend', linewidth=2)\n",
    "\n",
    "plt.title(\"Scatter Plot with Regression Line number of teams vs fifa version\", fontsize=16)\n",
    "plt.xlabel(\"Fifa_version\", fontsize=14)\n",
    "plt.ylabel(\"Number of teams\", fontsize=14)\n",
    "\n",
    "\n",
    "plt.legend()\n",
    "\n",
    "\n",
    "plt.grid(True)\n",
    "plt.show()"
   ]
  },
  {
   "cell_type": "markdown",
   "metadata": {},
   "source": [
    "+ it can be seen that for every latest game the total number of teams are added."
   ]
  },
  {
   "cell_type": "markdown",
   "metadata": {},
   "source": [
    "## l)"
   ]
  },
  {
   "cell_type": "code",
   "execution_count": 855,
   "metadata": {},
   "outputs": [],
   "source": [
    "df_players_24=[df_player['fifa_version']==24]\n"
   ]
  },
  {
   "cell_type": "code",
   "execution_count": 856,
   "metadata": {},
   "outputs": [
    {
     "ename": "TypeError",
     "evalue": "list indices must be integers or slices, not list",
     "output_type": "error",
     "traceback": [
      "\u001b[1;31m---------------------------------------------------------------------------\u001b[0m",
      "\u001b[1;31mTypeError\u001b[0m                                 Traceback (most recent call last)",
      "Cell \u001b[1;32mIn[856], line 1\u001b[0m\n\u001b[1;32m----> 1\u001b[0m df_players_in_team\u001b[38;5;241m=\u001b[39m\u001b[43mdf_players_24\u001b[49m\u001b[43m[\u001b[49m\u001b[43m[\u001b[49m\u001b[38;5;124;43m'\u001b[39;49m\u001b[38;5;124;43mclub_name\u001b[39;49m\u001b[38;5;124;43m'\u001b[39;49m\u001b[43m]\u001b[49m\u001b[43m]\u001b[49m\n\u001b[0;32m      2\u001b[0m df_players_in_team\n\u001b[0;32m      3\u001b[0m player_count \u001b[38;5;241m=\u001b[39m df_players_in_team[\u001b[38;5;124m'\u001b[39m\u001b[38;5;124mclub_name\u001b[39m\u001b[38;5;124m'\u001b[39m]\u001b[38;5;241m.\u001b[39mvalue_counts()\n",
      "\u001b[1;31mTypeError\u001b[0m: list indices must be integers or slices, not list"
     ]
    }
   ],
   "source": [
    "df_players_in_team=df_players_24[['club_name']]\n",
    "df_players_in_team\n",
    "player_count = df_players_in_team['club_name'].value_counts()\n",
    "player_count_df = player_count.reset_index()\n",
    "player_count_df.columns = ['club_name', 'count']\n",
    "player_count_df.head()"
   ]
  },
  {
   "cell_type": "code",
   "execution_count": 857,
   "metadata": {},
   "outputs": [],
   "source": [
    "teams_per_country = df_team.groupby('nationality_name').size().reset_index(name='number of teams').sort_values(by='number of teams',ascending=False)\n",
    "coaches_per_country = df_coach.groupby('nationality_name').size().reset_index(name='number of coaches').sort_values(by='number of coaches',ascending=False)"
   ]
  },
  {
   "cell_type": "code",
   "execution_count": 858,
   "metadata": {},
   "outputs": [
    {
     "data": {
      "text/plain": [
       "(   nationality_name  number of teams\n",
       " 19          England              956\n",
       " 22          Germany              531\n",
       " 50            Spain              455\n",
       " 21           France              438\n",
       " 28            Italy              393,\n",
       "    nationality_name  number of coaches\n",
       " 55            Spain                138\n",
       " 19          England                114\n",
       " 23          Germany                110\n",
       " 0         Argentina                103\n",
       " 29            Italy                 83)"
      ]
     },
     "execution_count": 858,
     "metadata": {},
     "output_type": "execute_result"
    }
   ],
   "source": [
    "teams_per_country.head(),coaches_per_country.head()"
   ]
  },
  {
   "cell_type": "code",
   "execution_count": 859,
   "metadata": {},
   "outputs": [
    {
     "data": {
      "image/png": "[encoded data removed]",
      "text/plain": [
       "<Figure size 1000x600 with 1 Axes>"
      ]
     },
     "metadata": {},
     "output_type": "display_data"
    }
   ],
   "source": [
    "mix_data= teams_per_country.merge(coaches_per_country, on='nationality_name', how='outer')\n",
    "mix_data.sort_values(by='number of teams', ascending=False, inplace=True)\n",
    "mix_data = mix_data.head(20)\n",
    "\n",
    "x = np.arange(len(mix_data['nationality_name'].head(20)))  # label locations\n",
    "width = 0.35  \n",
    "\n",
    "fig, ax = plt.subplots(figsize=(10, 6))\n",
    "bars1 = ax.bar(x - width/2, mix_data['number of teams'], width, label='Teams')\n",
    "bars2 = ax.bar(x + width/2, mix_data['number of coaches'], width, label='Coaches')\n",
    "\n",
    "ax.set_xlabel('Countries')\n",
    "ax.set_ylabel('Number')\n",
    "ax.set_title('Number of Teams and Coaches by Country')\n",
    "ax.set_xticks(x)\n",
    "ax.set_xticklabels(mix_data['nationality_name'], rotation=90)\n",
    "ax.legend()\n",
    "\n",
    "plt.tight_layout()\n",
    "plt.show()"
   ]
  },
  {
   "cell_type": "markdown",
   "metadata": {},
   "source": [
    "AS we can see in general if a country has more teams the country will have more coaches and if a country has less domestic teams it has less coaches but is is not necessary that the country with the most teams will have most coaches and vise versa."
   ]
  },
  {
   "cell_type": "code",
   "execution_count": null,
   "metadata": {},
   "outputs": [],
   "source": [
    "\n",
    "coach=coaches_per_country.loc[coaches_per_country['number of coaches']==coaches_per_country['number of coaches'].max()]\n",
    "coach_name=coach['nationality_name'].values[0]\n",
    "team=teams_per_country.loc[teams_per_country['number of teams']==teams_per_country['number of teams'].max()]\n",
    "team_name=team['nationality_name'].values[0]\n",
    "print(f\"Country with the most clubs: {team_name} with {team['number of teams'].values[0]} clubs.\")\n",
    "print(f\"Country with the most coaches: {coach_name} with {coach['number of coaches'].values[0]} coaches.\")"
   ]
  },
  {
   "cell_type": "markdown",
   "metadata": {},
   "source": []
  },
  {
   "cell_type": "markdown",
   "metadata": {},
   "source": [
    "## m)"
   ]
  },
  {
   "cell_type": "code",
   "execution_count": null,
   "metadata": {},
   "outputs": [],
   "source": [
    "# creating a data frame with the given players\n",
    "players=['Alexia Putellas Segura','Erling Braut Haaland','Kylian Mbappé Lottin','Lionel Andrés Messi Cuccittini','Cristiano Ronaldo dos Santos Aveiro']\n",
    "df_new_players=df_player[df_player['long_name'].isin(players)]\n",
    "\n",
    "# sorting the data frame w.r.t lone_name and fifa_version ascending and descending order.\n",
    "df_new_players=df_new_players.sort_values(by=['long_name','fifa_version'],ascending=[True,False])\n"
   ]
  },
  {
   "cell_type": "code",
   "execution_count": null,
   "metadata": {},
   "outputs": [],
   "source": [
    "# plotting the chronological evolution of the average skills of each player\n",
    "plt.figure(figsize=(10, 6)) \n",
    "for player in players:\n",
    "    player_data = df_new_players[df_new_players['long_name'] == player]\n",
    "    plt.plot(player_data['fifa_version'], player_data['average_skills'], marker='o', label=player)\n",
    "\n",
    "plt.xlabel('game version')\n",
    "plt.ylabel('Skill Level')\n",
    "plt.title('Average_skill vs Fifa_version')\n",
    "plt.legend()\n",
    "plt.grid(True)\n",
    "plt.show()"
   ]
  },
  {
   "cell_type": "code",
   "execution_count": null,
   "metadata": {},
   "outputs": [],
   "source": [
    "# plotting the trent in wages across all versions of the game\n",
    "plt.figure(figsize=(10, 6)) \n",
    "for player in players:\n",
    "    player_data = df_new_players[df_new_players['long_name'] == player]\n",
    "    plt.plot(player_data['fifa_version'], player_data['wage_eur']/1000, marker='o', label=player)\n",
    "\n",
    "plt.xlabel('Game version')\n",
    "plt.ylabel('wage in thousand euros')\n",
    "plt.title('Wage vs fifa_version')\n",
    "plt.legend()\n",
    "plt.grid(True)\n",
    "plt.show()"
   ]
  },
  {
   "cell_type": "code",
   "execution_count": null,
   "metadata": {},
   "outputs": [],
   "source": [
    "# Trend between salary and skills\n",
    "plt.figure(figsize=(8, 5))\n",
    "y=df_new_players['wage_eur']/1000\n",
    "x=df_new_players['average_skills']\n",
    "\n",
    "plt.scatter(x, y, color='b')\n",
    "\n",
    "slope, intercept, r_value, p_value, std_err = linregress(x, y)\n",
    "regression_line = slope * x + intercept\n",
    "plt.plot(x, regression_line, color='red', label='Trend', linewidth=2)\n",
    "\n",
    "plt.title(\"overall trend between salary and skills\", fontsize=16)\n",
    "plt.ylabel(\"wage in thousand euros per week\", fontsize=14)\n",
    "plt.xlabel(\"average skill level\", fontsize=14)\n",
    "\n",
    "plt.legend()\n",
    "\n",
    "\n",
    "plt.show()"
   ]
  },
  {
   "cell_type": "code",
   "execution_count": null,
   "metadata": {},
   "outputs": [],
   "source": [
    "import  matplotlib.colors \n",
    "\n",
    "df = pd.DataFrame(df_new_players, columns=['long_name', 'wage_eur', 'average_skills'])\n",
    "\n",
    "\n",
    "norm = matplotlib.colors.Normalize(vmin=(df['wage_eur']/1000).min(), vmax=(df['wage_eur']/1000).max())\n",
    "cmap = plt.cm.viridis_r  \n",
    "\n",
    "plt.figure(figsize=(15, 6))  \n",
    "sc = plt.scatter(x=df['long_name'], y=df['average_skills'], c=df['wage_eur']/1000, cmap=cmap, norm=norm)\n",
    "plt.colorbar(sc, label='wage in thousand euros') \n",
    "plt.xlabel('Name of players')\n",
    "plt.ylabel('skill level')\n",
    "plt.title('overall trend between salary and skills')\n",
    "plt.show()\n"
   ]
  },
  {
   "cell_type": "markdown",
   "metadata": {},
   "source": [
    "+ it can be seen that the skill level impacts the salary of the players but also depends on the popularity of the player"
   ]
  },
  {
   "cell_type": "markdown",
   "metadata": {},
   "source": []
  }
 ],
 "metadata": {
  "kernelspec": {
   "display_name": "AI_Projects",
   "language": "python",
   "name": "python3"
  },
  "language_info": {
   "codemirror_mode": {
    "name": "ipython",
    "version": 3
   },
   "file_extension": ".py",
   "mimetype": "text/x-python",
   "name": "python",
   "nbconvert_exporter": "python",
   "pygments_lexer": "ipython3",
   "version": "3.11.7"
  }
 },
 "nbformat": 4,
 "nbformat_minor": 2
}
